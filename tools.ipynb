{
  "nbformat": 4,
  "nbformat_minor": 0,
  "metadata": {
    "colab": {
      "name": "tools.ipynb",
      "provenance": [],
      "authorship_tag": "ABX9TyPKb3VzwYZQFEHNlsp2zWqp",
      "include_colab_link": true
    },
    "kernelspec": {
      "name": "python3",
      "display_name": "Python 3"
    }
  },
  "cells": [
    {
      "cell_type": "markdown",
      "metadata": {
        "id": "view-in-github",
        "colab_type": "text"
      },
      "source": [
        "<a href=\"https://colab.research.google.com/github/AlexxLai/ml0716/blob/master/tools.ipynb\" target=\"_parent\"><img src=\"https://colab.research.google.com/assets/colab-badge.svg\" alt=\"Open In Colab\"/></a>"
      ]
    },
    {
      "cell_type": "code",
      "metadata": {
        "id": "V0Wocm2QYtIt",
        "colab_type": "code",
        "colab": {
          "base_uri": "https://localhost:8080/",
          "height": 205
        },
        "outputId": "e5f11f9f-02ca-4829-c491-4cb633d5acb8"
      },
      "source": [
        "!pip install opencc-python-reimplemented"
      ],
      "execution_count": 1,
      "outputs": [
        {
          "output_type": "stream",
          "text": [
            "Collecting opencc-python-reimplemented\n",
            "\u001b[?25l  Downloading https://files.pythonhosted.org/packages/04/aa/02c5ffc87e2bf1da1f476d35aa4de69cad2cfc3140e37114755c454d1231/opencc-python-reimplemented-0.1.6.tar.gz (484kB)\n",
            "\u001b[K     |████████████████████████████████| 491kB 3.3MB/s \n",
            "\u001b[?25hBuilding wheels for collected packages: opencc-python-reimplemented\n",
            "  Building wheel for opencc-python-reimplemented (setup.py) ... \u001b[?25l\u001b[?25hdone\n",
            "  Created wheel for opencc-python-reimplemented: filename=opencc_python_reimplemented-0.1.6-py2.py3-none-any.whl size=486136 sha256=962e22058110690ad505d77b3806232bed2a69ce46a96a8bb82b672e8919ec96\n",
            "  Stored in directory: /root/.cache/pip/wheels/54/8a/0f/405db0ba3f02d9af8211422d3ae94c47b3296256f168ac1e68\n",
            "Successfully built opencc-python-reimplemented\n",
            "Installing collected packages: opencc-python-reimplemented\n",
            "Successfully installed opencc-python-reimplemented-0.1.6\n"
          ],
          "name": "stdout"
        }
      ]
    },
    {
      "cell_type": "code",
      "metadata": {
        "id": "boLGFchWZfrM",
        "colab_type": "code",
        "colab": {
          "base_uri": "https://localhost:8080/",
          "height": 52
        },
        "outputId": "9861cf42-25d8-47f3-9b0f-30c9fbf29b12"
      },
      "source": [
        "from opencc import OpenCC\n",
        "cc = OpenCC('s2twp')  # convert from Simplified Chinese to Traditional Chinese\n",
        "# can also set conversion by calling set_conversion\n",
        "# cc.set_conversion('s2tw')\n",
        "to_convert = \"\"\"〔暴爽玄幻，最热爽文〕少年陆鸣，血脉被夺，沦为废人，受尽屈辱。幸得至尊神殿，重生无上血脉，从此脚踏天才，一路逆袭，踏上热血辉煌之路。\n",
        "\n",
        "噬无尽生灵，融诸天血脉，跨千山万水，闯九天十地，败尽天下英豪，修战龙真诀，成就万道龙皇。精品群号：570274770（需要验证粉丝值） Vip群598630364（付费群）\"\"\"\n",
        "converted = cc.convert(to_convert)\n",
        "converted"
      ],
      "execution_count": 4,
      "outputs": [
        {
          "output_type": "execute_result",
          "data": {
            "application/vnd.google.colaboratory.intrinsic": {
              "type": "string"
            },
            "text/plain": [
              "'〔暴爽玄幻，最熱爽文〕少年陸鳴，血脈被奪，淪為廢人，受盡屈辱。幸得至尊神殿，重生無上血脈，從此腳踏天才，一路逆襲，踏上熱血輝煌之路。\\n\\n噬無盡生靈，融諸天血脈，跨千山萬水，闖九天十地，敗盡天下英豪，修戰龍真訣，成就萬道龍皇。精品群號：570274770（需要驗證粉絲值） Vip群598630364（付費群）'"
            ]
          },
          "metadata": {
            "tags": []
          },
          "execution_count": 4
        }
      ]
    },
    {
      "cell_type": "code",
      "metadata": {
        "id": "8oOO_MRg8OhB",
        "colab_type": "code",
        "colab": {}
      },
      "source": [
        "# 1.次數；高，重要度↑\n",
        "# 2.常用度：高，重要度↓\n",
        "# 詞重要程度：(TF)次數*1/常用度(IDF)"
      ],
      "execution_count": null,
      "outputs": []
    },
    {
      "cell_type": "code",
      "metadata": {
        "id": "94szdWN5b6G6",
        "colab_type": "code",
        "colab": {}
      },
      "source": [
        "news = \"\"\"國民黨高雄市長補選候選人李眉蓁稍早被爆發碩士論文疑似有抄襲之嫌，儘管李眉蓁率先針對沒有標注註腳道歉，並稱十幾年前她還是沒有任何公職的學生，中山大學是很有水準的學校，能通過審查機制應該沒什麼問題。然而，中山大學今向媒體透露，將送校外專業領域公正學者審查檢視，四個月內完成審定。\n",
        "\n",
        "\n",
        "被爆出碩論有抄襲童振源嫌疑，李眉蓁表示，彭文正教授當時也有指出陳其邁候選人鑽石公主號防疫論文是學術詐欺，蔡英文總統在選舉的時候論文也被拿出來討論，她就在想自己的論文是不是也會拿出來討論，沒想到真的中。\n",
        "\n",
        "李眉蓁說，十幾年前她還是學生，只是一個沒有擔任任何公職的學生，那時候在自我進修，現在還能被拿出來討論真是受寵若驚，至於中山大學它是一個很有水準的學校，可能有些沒有標注到的要說聲抱歉，但是有通過中山大學審查我相信這應該沒什麼問題。\n",
        "\n",
        "對此，中山大學今(20日)透露，依校內制定的「碩、博士學位論文抄襲、代寫、舞弊處理原則」，通知被檢舉人所屬學院及學系，依程序學院收件後10日內成立審定委員會，並送校外專業領域公正學者審查，並於四個月內完成審定，必要時得展延兩個月，展延以一次為限。\"\"\""
      ],
      "execution_count": 5,
      "outputs": []
    },
    {
      "cell_type": "code",
      "metadata": {
        "id": "PZiI8VzXbwHT",
        "colab_type": "code",
        "colab": {
          "base_uri": "https://localhost:8080/",
          "height": 237
        },
        "outputId": "48eeb28d-13ff-4ecc-bff1-05aa6ea1bb0f"
      },
      "source": [
        "import jieba\n",
        "from urllib.request import urlretrieve\n",
        "# 偶爾: list(jieba.cut(news))\n",
        "url = \"https://github.com/fxsjy/jieba/raw/master/extra_dict/dict.txt.big\"\n",
        "urlretrieve(url, \"dict.txt.big\")\n",
        "jieba.set_dictionary(\"dict.txt.big\")\n",
        "jieba.load_userdict(\"mydict.txt\")\n",
        "\" \".join(jieba.cut(news))"
      ],
      "execution_count": 10,
      "outputs": [
        {
          "output_type": "stream",
          "text": [
            "Building prefix dict from /content/dict.txt.big ...\n",
            "Dumping model to file cache /tmp/jieba.u501edca284da514cb68b53a20324f4e3.cache\n",
            "Loading model cost 1.532 seconds.\n",
            "Prefix dict has been built successfully.\n"
          ],
          "name": "stderr"
        },
        {
          "output_type": "execute_result",
          "data": {
            "application/vnd.google.colaboratory.intrinsic": {
              "type": "string"
            },
            "text/plain": [
              "'國民黨 高雄 市長 補選 候選人 李眉蓁 稍早 被 爆發 碩士論文 疑似 有 抄襲 之 嫌 ， 儘管 李眉蓁 率先 針對 沒有 標注 註腳 道歉 ， 並稱 十幾年 前 她 還是 沒有 任何 公職 的 學生 ， 中山大學 是 很 有 水準 的 學校 ， 能 通過審查 機制 應該 沒什麼 問題 。 然而 ， 中山大學 今向 媒體 透露 ， 將送 校外 專業 領域 公正 學者 審查 檢視 ， 四個 月 內 完成 審定 。 \\n \\n \\n 被 爆出 碩論 有 抄襲 童 振源 嫌疑 ， 李眉蓁 表示 ， 彭文正 教授 當時 也 有 指出 陳 其邁 候選人 鑽石公主號 防疫 論文 是 學術 詐欺 ， 蔡英文 總統 在 選舉 的 時候 論文 也 被 拿 出來 討論 ， 她 就 在 想 自己 的 論文 是不是 也 會 拿 出來 討論 ， 沒想到 真的 中 。 \\n \\n 李眉蓁 說 ， 十幾年 前 她 還是 學生 ， 只是 一個 沒有 擔任 任何 公職 的 學生 ， 那 時候 在 自我 進修 ， 現在 還能 被 拿 出來 討論 真是 受寵若驚 ， 至於 中山大學 它 是 一個 很 有 水準 的 學校 ， 可能 有些 沒有 標注 到 的 要說 聲 抱歉 ， 但是 有 通過 中山大學 審查 我 相信 這 應該 沒什麼 問題 。 \\n \\n 對此 ， 中山大學 今 ( 20 日 ) 透露 ， 依 校內 制定 的 「 碩 、 博士學位 論 文 抄襲 、 代寫 、 舞弊 處 理 原則 」 ， 通知 被 檢舉人 所屬 學院 及 學系 ， 依 程序 學院 收件 後 10 日內成 立 審定 委員會 ， 並送 校外 專業 領域 公正 學者 審查 ， 並於 四個 月 內 完成 審定 ， 必要 時得 展延 兩個 月 ， 展延 以 一次 為限 。'"
            ]
          },
          "metadata": {
            "tags": []
          },
          "execution_count": 10
        }
      ]
    },
    {
      "cell_type": "code",
      "metadata": {
        "id": "teMXkiCq-H9T",
        "colab_type": "code",
        "colab": {
          "base_uri": "https://localhost:8080/",
          "height": 353
        },
        "outputId": "ad00fff3-3a34-4ff1-ed34-60098f15cb85"
      },
      "source": [
        "import jieba.analyse\n",
        "url = \"https://github.com/fxsjy/jieba/blob/master/extra_dict/idf.txt.big\"\n",
        "urlretrieve(url,\"idf.txt.big\")\n",
        "jieba.analyse.set_idf_path(\"idf.txt.big\")\n",
        "jieba.analyse.extract_tags(news)"
      ],
      "execution_count": 13,
      "outputs": [
        {
          "output_type": "execute_result",
          "data": {
            "text/plain": [
              "['中山大學',\n",
              " '李眉蓁',\n",
              " '沒有',\n",
              " '抄襲',\n",
              " '學生',\n",
              " '審查',\n",
              " '審定',\n",
              " '論文',\n",
              " '出來',\n",
              " '討論',\n",
              " '候選人',\n",
              " '標注',\n",
              " '十幾年',\n",
              " '還是',\n",
              " '任何',\n",
              " '公職',\n",
              " '水準',\n",
              " '學校',\n",
              " '應該',\n",
              " '沒什麼']"
            ]
          },
          "metadata": {
            "tags": []
          },
          "execution_count": 13
        }
      ]
    }
  ]
}