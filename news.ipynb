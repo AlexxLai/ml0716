{
  "nbformat": 4,
  "nbformat_minor": 0,
  "metadata": {
    "colab": {
      "name": "news.ipynb",
      "provenance": [],
      "collapsed_sections": [],
      "include_colab_link": true
    },
    "kernelspec": {
      "display_name": "Python 3",
      "name": "python3"
    }
  },
  "cells": [
    {
      "cell_type": "markdown",
      "metadata": {
        "id": "view-in-github",
        "colab_type": "text"
      },
      "source": [
        "<a href=\"https://colab.research.google.com/github/AlexxLai/ml0716/blob/master/news.ipynb\" target=\"_parent\"><img src=\"https://colab.research.google.com/assets/colab-badge.svg\" alt=\"Open In Colab\"/></a>"
      ]
    },
    {
      "cell_type": "code",
      "metadata": {
        "id": "-TAKNZP8xvh3",
        "colab_type": "code",
        "colab": {
          "base_uri": "https://localhost:8080/",
          "height": 54
        },
        "outputId": "61ccd7d8-f648-4a48-8292-5ef5dce0fd40"
      },
      "source": [
        "from google.colab import drive\n",
        "drive.mount(\"/content/drive\")"
      ],
      "execution_count": 36,
      "outputs": [
        {
          "output_type": "stream",
          "text": [
            "Drive already mounted at /content/drive; to attempt to forcibly remount, call drive.mount(\"/content/drive\", force_remount=True).\n"
          ],
          "name": "stdout"
        }
      ]
    },
    {
      "cell_type": "code",
      "metadata": {
        "id": "i-F3-f7Fx89i",
        "colab_type": "code",
        "colab": {}
      },
      "source": [
        "import zipfile\n",
        "f = zipfile.ZipFile(\"drive/My Drive/0724test/chinese_news_trans.zip\")\n",
        "f.extractall(\"train\")\n",
        "f = zipfile.ZipFile(\"drive/My Drive/0724test/chinese_news_test.zip\")\n",
        "f.extractall(\"test\")"
      ],
      "execution_count": 32,
      "outputs": []
    },
    {
      "cell_type": "code",
      "metadata": {
        "id": "oBdv5WscrHDo",
        "colab_type": "code",
        "colab": {}
      },
      "source": [
        "import glob\n",
        "import os\n",
        "import pandas as pd\n",
        "\n",
        "def getdf(targetdn):\n",
        "    datas = {\n",
        "        \"path\":[],\n",
        "        \"label\":[]\n",
        "    }\n",
        "    base = \"\"\n",
        "    p = os.path.join(base, targetdn, \"*\")\n",
        "    for dn in glob.glob(p):\n",
        "        name = os.path.split(dn)[-1]\n",
        "        fn = os.path.join(dn, \"*.[tT][xX][tT]\")\n",
        "        fns = glob.glob(fn)\n",
        "        datas[\"label\"] = datas[\"label\"] + [name] * len(fns)\n",
        "        datas[\"path\"] = datas[\"path\"] + fns\n",
        "    return pd.DataFrame(datas)"
      ],
      "execution_count": 33,
      "outputs": []
    },
    {
      "cell_type": "code",
      "metadata": {
        "id": "hg5wHb2auNkX",
        "colab_type": "code",
        "colab": {}
      },
      "source": [
        "train_df = getdf(\"train/chinese_news_trans\")\n",
        "test_df = getdf(\"test/chinese_news_test\")"
      ],
      "execution_count": 37,
      "outputs": []
    },
    {
      "cell_type": "code",
      "metadata": {
        "id": "b13t5kCSy5QU",
        "colab_type": "code",
        "colab": {}
      },
      "source": [
        "# train_df\n",
        "# test_df"
      ],
      "execution_count": null,
      "outputs": []
    },
    {
      "cell_type": "code",
      "metadata": {
        "id": "o67rBbpgt-P4",
        "colab_type": "code",
        "colab": {}
      },
      "source": [
        "def read_content(fn):\n",
        "    with open(fn, \"r\", encoding=\"utf-8\") as f:\n",
        "        content = f.read()\n",
        "    return content\n",
        "train_df[\"content\"] = train_df[\"path\"].apply(read_content)\n",
        "test_df[\"content\"] = test_df[\"path\"].apply(read_content)\n",
        "train_df"
      ],
      "execution_count": null,
      "outputs": []
    },
    {
      "cell_type": "code",
      "metadata": {
        "id": "87ypaOy21GFs",
        "colab_type": "code",
        "colab": {}
      },
      "source": [
        "u = train_df[\"label\"].unique()\n",
        "trains = {n:i for i, n in enumerate(u)}\n",
        "trains_r = {i:n for i, n in enumerate(u)}\n",
        "y_train = train_df[\"label\"].replace(trains)\n",
        "y_test = test_df[\"label\"].replace(trains)"
      ],
      "execution_count": 46,
      "outputs": []
    },
    {
      "cell_type": "code",
      "metadata": {
        "id": "SI941Uhv2EY_",
        "colab_type": "code",
        "colab": {}
      },
      "source": [
        "import jieba\n",
        "# 此段的部分是抓取更大的字典集，用以增加正確率\n",
        "# from urllib.request import urlretrieve\n",
        "# url = \"https://github.com/fxsjy/jieba/raw/master/extra_dict/dict.txt.big\"\n",
        "# urlretrieve(url,\"dict.txt.big\")\n",
        "# jieba.set_dictionary(\"dict.txt.big\")\n",
        "p = train_df.iloc[0][\"content\"]\n",
        "\" \".join(jieba.cut(p))"
      ],
      "execution_count": null,
      "outputs": []
    },
    {
      "cell_type": "code",
      "metadata": {
        "id": "raVsu0vv2dTk",
        "colab_type": "code",
        "colab": {}
      },
      "source": [
        "def newscut(p):\n",
        "  return \" \".join(jieba.cut(p))\n",
        "x_train = train_df[\"content\"].apply(newscut)\n",
        "x_test = test_df[\"content\"].apply(newscut)\n",
        "x_train"
      ],
      "execution_count": null,
      "outputs": []
    },
    {
      "cell_type": "code",
      "metadata": {
        "id": "CL5K7z9s3knS",
        "colab_type": "code",
        "colab": {}
      },
      "source": [
        "from sklearn.feature_extraction.text import CountVectorizer\n",
        "vec = CountVectorizer()\n",
        "x_train_count = vec.fit_transform(x_train)\n",
        "x_test_count = vec.transform(x_test)"
      ],
      "execution_count": 52,
      "outputs": []
    },
    {
      "cell_type": "code",
      "metadata": {
        "id": "ME-GXRCL3fz4",
        "colab_type": "code",
        "colab": {
          "base_uri": "https://localhost:8080/",
          "height": 34
        },
        "outputId": "5af4aabc-ba3c-473e-b913-38002c96f4ff"
      },
      "source": [
        "from sklearn.naive_bayes import MultinomialNB\n",
        "clf = MultinomialNB()\n",
        "clf.fit(x_train_count,y_train)"
      ],
      "execution_count": 53,
      "outputs": [
        {
          "output_type": "execute_result",
          "data": {
            "text/plain": [
              "MultinomialNB(alpha=1.0, class_prior=None, fit_prior=True)"
            ]
          },
          "metadata": {
            "tags": []
          },
          "execution_count": 53
        }
      ]
    },
    {
      "cell_type": "code",
      "metadata": {
        "id": "-lCgpumx3cy-",
        "colab_type": "code",
        "colab": {
          "base_uri": "https://localhost:8080/",
          "height": 34
        },
        "outputId": "e5a17f06-b707-44f3-e34c-c6a6f8f1da3e"
      },
      "source": [
        "from sklearn.metrics import accuracy_score\n",
        "pre = clf.predict(x_test_count)\n",
        "accuracy_score(pre, y_test)"
      ],
      "execution_count": 54,
      "outputs": [
        {
          "output_type": "execute_result",
          "data": {
            "text/plain": [
              "1.0"
            ]
          },
          "metadata": {
            "tags": []
          },
          "execution_count": 54
        }
      ]
    },
    {
      "cell_type": "code",
      "metadata": {
        "id": "uoEk26cV3yLT",
        "colab_type": "code",
        "colab": {}
      },
      "source": [
        "from sklearn.metrics import confusion_matrix\n",
        "mat = confusion_matrix(y_test,pre)\n",
        "pd.DataFrame(mat,\n",
        "        columns = [n+\"(預測)\" for n in u],\n",
        "        index = [n+\"(真實)\" for n in u]\n",
        "        )"
      ],
      "execution_count": null,
      "outputs": []
    },
    {
      "cell_type": "code",
      "metadata": {
        "id": "m60BGfR-42Yz",
        "colab_type": "code",
        "colab": {
          "base_uri": "https://localhost:8080/",
          "height": 289
        },
        "outputId": "78471b92-daeb-4ad4-8797-89a8429e6909"
      },
      "source": [
        "test = input(\"輸入一則新聞:\")\n",
        "count = vec.transform([newscut(test)]) # 結果必須是Series，因此必須加上中括號轉成list\n",
        "answer = clf.predict(count)[0]\n",
        "proba = clf.predict_proba(count)[0] # 機率\n",
        "for title,p in zip(u,proba):\n",
        "  print(title,\"的機率:\",p)\n",
        "print(\"答案:\",trains_r[answer])\n",
        "print(proba)"
      ],
      "execution_count": 64,
      "outputs": [
        {
          "output_type": "stream",
          "text": [
            "輸入一則新聞:民進黨前秘書長羅文嘉淡出政壇十多年，去年重出江湖，與民進黨前主席卓榮泰合力帶領民進黨打贏大選後，羅文嘉就從執政團隊「裸退」，回憶過去一年執掌黨務，他感慨說，「民進黨已不是我所熟悉的政黨」，民進黨有些處理事情的界線，超過他的理解，「我認為這遲早會出事」。  要更深層檢討政媒關係  「黨政軍退出媒體」一直是民進黨長期的主張，羅文嘉當年率先在中常會發難，要時任民視董事長蔡同榮退出民視，如今，三立董事長林崑海為首的海派掌握媒體資源。羅文嘉說，他立委任內是推動黨政軍退出三台，「我們用政治力量讓政治退出媒體，媒體並沒有因此變成我們想要的媒體。」  羅文嘉說，現在政府或政治要影響媒體不容易，反倒商業力量進入媒體，是帶有政治利益與政治目的，商業掌握媒體資源，再透過媒體來影響政治、參與政治。海派只是局部問題，民進黨一個派系的產生也只是結果，背後更深層的問題是要檢討「政媒關係」，顯然台灣媒體面臨的困境，是向商業利益屈服，要面對媒體老闆影響政治。  民進黨已成世俗化政黨  談到民進黨過去堅守的價值與理念，羅文嘉表示，去年接任民進黨秘書長前，就有人告訴他，「現在的民進黨不一樣了」，但他以自己過去的經驗判斷，總覺得黨內的人事再怎麼變換，有些東西不會變，但歷經一整年的黨務工作，他必須承認，民進黨從政黨文化、派系生態乃至政黨價值，有非常多改變，「當年那個在街頭衝撞、充滿理念的民進黨，如今已成世俗化政黨。」  日前剛落幕的民進黨中常委等黨權力核心改選，羅文嘉說，黨內以前的幹部、老朋友或年輕立委問他，怎麼看待黨職選舉，而他只回應「應該要抑制哪些力量」，給了一點意見。他會這樣做，是想「保存民進黨一股元氣與正氣」。  但即使對民進黨的政治生態與文化感到擔憂，羅文嘉仍認為，面對中國大陸持續的對台壓力，只有民進黨才能守住台灣的現狀，「國民黨不行，其他小黨還沒起來」。\n",
            "軍事 的機率: 6.091136735748394e-46\n",
            "交通 的機率: 6.1474456721826215e-77\n",
            "計算機 的機率: 6.057287806223026e-33\n",
            "環境 的機率: 1.9750341213089015e-51\n",
            "藝術 的機率: 9.404793844010334e-32\n",
            "醫藥 的機率: 1.5660811661413818e-80\n",
            "教育 的機率: 1.5912508850551988e-15\n",
            "經濟 的機率: 1.0\n",
            "體育 的機率: 4.662016687348711e-71\n",
            "政治 的機率: 7.998850936347936e-32\n",
            "答案: 經濟\n",
            "[6.09113674e-46 6.14744567e-77 6.05728781e-33 1.97503412e-51\n",
            " 9.40479384e-32 1.56608117e-80 1.59125089e-15 1.00000000e+00\n",
            " 4.66201669e-71 7.99885094e-32]\n"
          ],
          "name": "stdout"
        }
      ]
    }
  ]
}