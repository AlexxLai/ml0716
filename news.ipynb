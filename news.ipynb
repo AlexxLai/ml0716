{
  "nbformat": 4,
  "nbformat_minor": 0,
  "metadata": {
    "colab": {
      "name": "news.ipynb",
      "provenance": [],
      "collapsed_sections": [],
      "toc_visible": true,
      "include_colab_link": true
    },
    "kernelspec": {
      "display_name": "Python 3",
      "name": "python3"
    }
  },
  "cells": [
    {
      "cell_type": "markdown",
      "metadata": {
        "id": "view-in-github",
        "colab_type": "text"
      },
      "source": [
        "<a href=\"https://colab.research.google.com/github/AlexxLai/ml0716/blob/master/news.ipynb\" target=\"_parent\"><img src=\"https://colab.research.google.com/assets/colab-badge.svg\" alt=\"Open In Colab\"/></a>"
      ]
    },
    {
      "cell_type": "code",
      "metadata": {
        "id": "-TAKNZP8xvh3",
        "colab_type": "code",
        "colab": {
          "base_uri": "https://localhost:8080/",
          "height": 54
        },
        "outputId": "61ccd7d8-f648-4a48-8292-5ef5dce0fd40"
      },
      "source": [
        "from google.colab import drive\n",
        "drive.mount(\"/content/drive\")"
      ],
      "execution_count": 36,
      "outputs": [
        {
          "output_type": "stream",
          "text": [
            "Drive already mounted at /content/drive; to attempt to forcibly remount, call drive.mount(\"/content/drive\", force_remount=True).\n"
          ],
          "name": "stdout"
        }
      ]
    },
    {
      "cell_type": "code",
      "metadata": {
        "id": "i-F3-f7Fx89i",
        "colab_type": "code",
        "colab": {}
      },
      "source": [
        "import zipfile\n",
        "f = zipfile.ZipFile(\"drive/My Drive/0724test/chinese_news_trans.zip\")\n",
        "f.extractall(\"train\")\n",
        "f = zipfile.ZipFile(\"drive/My Drive/0724test/chinese_news_test.zip\")\n",
        "f.extractall(\"test\")"
      ],
      "execution_count": 32,
      "outputs": []
    },
    {
      "cell_type": "code",
      "metadata": {
        "id": "oBdv5WscrHDo",
        "colab_type": "code",
        "colab": {}
      },
      "source": [
        "import glob\n",
        "import os\n",
        "import pandas as pd\n",
        "\n",
        "def getdf(targetdn):\n",
        "    datas = {\n",
        "        \"path\":[],\n",
        "        \"label\":[]\n",
        "    }\n",
        "    base = \"\"\n",
        "    p = os.path.join(base, targetdn, \"*\")\n",
        "    for dn in glob.glob(p):\n",
        "        name = os.path.split(dn)[-1]\n",
        "        fn = os.path.join(dn, \"*.[tT][xX][tT]\")\n",
        "        fns = glob.glob(fn)\n",
        "        datas[\"label\"] = datas[\"label\"] + [name] * len(fns)\n",
        "        datas[\"path\"] = datas[\"path\"] + fns\n",
        "    return pd.DataFrame(datas)"
      ],
      "execution_count": 33,
      "outputs": []
    },
    {
      "cell_type": "code",
      "metadata": {
        "id": "hg5wHb2auNkX",
        "colab_type": "code",
        "colab": {}
      },
      "source": [
        "train_df = getdf(\"train/chinese_news_trans\")\n",
        "test_df = getdf(\"test/chinese_news_test\")"
      ],
      "execution_count": 37,
      "outputs": []
    },
    {
      "cell_type": "code",
      "metadata": {
        "id": "b13t5kCSy5QU",
        "colab_type": "code",
        "colab": {}
      },
      "source": [
        "# train_df\n",
        "# test_df"
      ],
      "execution_count": null,
      "outputs": []
    },
    {
      "cell_type": "code",
      "metadata": {
        "id": "o67rBbpgt-P4",
        "colab_type": "code",
        "colab": {
          "base_uri": "https://localhost:8080/",
          "height": 402
        },
        "outputId": "8965b66e-cfad-48ff-a852-a506630f2c75"
      },
      "source": [
        "def read_content(fn):\n",
        "    with open(fn, \"r\", encoding=\"utf-8\") as f:\n",
        "        content = f.read()\n",
        "    return content\n",
        "train_df[\"content\"] = train_df[\"path\"].apply(read_content)\n",
        "test_df[\"content\"] = test_df[\"path\"].apply(read_content)"
      ],
      "execution_count": 43,
      "outputs": [
        {
          "output_type": "execute_result",
          "data": {
            "text/html": [
              "<div>\n",
              "<style scoped>\n",
              "    .dataframe tbody tr th:only-of-type {\n",
              "        vertical-align: middle;\n",
              "    }\n",
              "\n",
              "    .dataframe tbody tr th {\n",
              "        vertical-align: top;\n",
              "    }\n",
              "\n",
              "    .dataframe thead th {\n",
              "        text-align: right;\n",
              "    }\n",
              "</style>\n",
              "<table border=\"1\" class=\"dataframe\">\n",
              "  <thead>\n",
              "    <tr style=\"text-align: right;\">\n",
              "      <th></th>\n",
              "      <th>path</th>\n",
              "      <th>label</th>\n",
              "      <th>content</th>\n",
              "    </tr>\n",
              "  </thead>\n",
              "  <tbody>\n",
              "    <tr>\n",
              "      <th>0</th>\n",
              "      <td>train/chinese_news_trans/軍事/813.TXT</td>\n",
              "      <td>軍事</td>\n",
              "      <td>古巴宣佈舉行軍事演習\\n新華社哈瓦那５月１日電古巴革命武裝部今晚發表公...</td>\n",
              "    </tr>\n",
              "    <tr>\n",
              "      <th>1</th>\n",
              "      <td>train/chinese_news_trans/軍事/8223.txt</td>\n",
              "      <td>軍事</td>\n",
              "      <td>\\n美國空軍改進B-1B轟炸機的電子戰系統(附圖) \\n\\n----------------...</td>\n",
              "    </tr>\n",
              "    <tr>\n",
              "      <th>2</th>\n",
              "      <td>train/chinese_news_trans/軍事/8123.TXT</td>\n",
              "      <td>軍事</td>\n",
              "      <td>１枚導彈致１２０名阿富汗人傷亡\\n新華社伊斯蘭堡５月２２日電阿富汗游擊...</td>\n",
              "    </tr>\n",
              "    <tr>\n",
              "      <th>3</th>\n",
              "      <td>train/chinese_news_trans/軍事/871.TXT</td>\n",
              "      <td>軍事</td>\n",
              "      <td>馬達加斯加發生軍事政變\\n新華社塔那那利佛５月１３日電據馬達加斯加電臺...</td>\n",
              "    </tr>\n",
              "    <tr>\n",
              "      <th>4</th>\n",
              "      <td>train/chinese_news_trans/軍事/889.TXT</td>\n",
              "      <td>軍事</td>\n",
              "      <td>緬甸取消部份地區軍事管制\\n新華社仰光５月１５日電據緬甸之聲電臺報道，...</td>\n",
              "    </tr>\n",
              "    <tr>\n",
              "      <th>...</th>\n",
              "      <td>...</td>\n",
              "      <td>...</td>\n",
              "      <td>...</td>\n",
              "    </tr>\n",
              "    <tr>\n",
              "      <th>2632</th>\n",
              "      <td>train/chinese_news_trans/政治/954.TXT</td>\n",
              "      <td>政治</td>\n",
              "      <td>李鵬同奧其爾巴特舉行會談\\n新華社北京５月４日電（記者楊子迪）國務院總...</td>\n",
              "    </tr>\n",
              "    <tr>\n",
              "      <th>2633</th>\n",
              "      <td>train/chinese_news_trans/政治/9463.TXT</td>\n",
              "      <td>政治</td>\n",
              "      <td>多米尼加共和國中止大選計票工作\\n新華社北京５月２１日電聖多明各消息：...</td>\n",
              "    </tr>\n",
              "    <tr>\n",
              "      <th>2634</th>\n",
              "      <td>train/chinese_news_trans/政治/9195.TXT</td>\n",
              "      <td>政治</td>\n",
              "      <td>泰國公主瓦塔娜離泰訪華\\n新華社曼谷５月１０日電泰國公主甘拉亞妮·瓦塔...</td>\n",
              "    </tr>\n",
              "    <tr>\n",
              "      <th>2635</th>\n",
              "      <td>train/chinese_news_trans/政治/9444.TXT</td>\n",
              "      <td>政治</td>\n",
              "      <td>伊駐英使館稱收到裝有電子元件的匿名信\\n新華社倫敦５月２１日電（記者王...</td>\n",
              "    </tr>\n",
              "    <tr>\n",
              "      <th>2636</th>\n",
              "      <td>train/chinese_news_trans/政治/9352.TXT</td>\n",
              "      <td>政治</td>\n",
              "      <td>法共召開中央全會\\n新華社巴黎５月１５日電法國共產黨中央委員會全體\\n...</td>\n",
              "    </tr>\n",
              "  </tbody>\n",
              "</table>\n",
              "<p>2637 rows × 3 columns</p>\n",
              "</div>"
            ],
            "text/plain": [
              "                                      path  ...                                            content\n",
              "0      train/chinese_news_trans/軍事/813.TXT  ...             古巴宣佈舉行軍事演習\\n新華社哈瓦那５月１日電古巴革命武裝部今晚發表公...\n",
              "1     train/chinese_news_trans/軍事/8223.txt  ...  \\n美國空軍改進B-1B轟炸機的電子戰系統(附圖) \\n\\n----------------...\n",
              "2     train/chinese_news_trans/軍事/8123.TXT  ...             １枚導彈致１２０名阿富汗人傷亡\\n新華社伊斯蘭堡５月２２日電阿富汗游擊...\n",
              "3      train/chinese_news_trans/軍事/871.TXT  ...             馬達加斯加發生軍事政變\\n新華社塔那那利佛５月１３日電據馬達加斯加電臺...\n",
              "4      train/chinese_news_trans/軍事/889.TXT  ...             緬甸取消部份地區軍事管制\\n新華社仰光５月１５日電據緬甸之聲電臺報道，...\n",
              "...                                    ...  ...                                                ...\n",
              "2632   train/chinese_news_trans/政治/954.TXT  ...             李鵬同奧其爾巴特舉行會談\\n新華社北京５月４日電（記者楊子迪）國務院總...\n",
              "2633  train/chinese_news_trans/政治/9463.TXT  ...             多米尼加共和國中止大選計票工作\\n新華社北京５月２１日電聖多明各消息：...\n",
              "2634  train/chinese_news_trans/政治/9195.TXT  ...             泰國公主瓦塔娜離泰訪華\\n新華社曼谷５月１０日電泰國公主甘拉亞妮·瓦塔...\n",
              "2635  train/chinese_news_trans/政治/9444.TXT  ...             伊駐英使館稱收到裝有電子元件的匿名信\\n新華社倫敦５月２１日電（記者王...\n",
              "2636  train/chinese_news_trans/政治/9352.TXT  ...             法共召開中央全會\\n新華社巴黎５月１５日電法國共產黨中央委員會全體\\n...\n",
              "\n",
              "[2637 rows x 3 columns]"
            ]
          },
          "metadata": {
            "tags": []
          },
          "execution_count": 43
        }
      ]
    }
  ]
}