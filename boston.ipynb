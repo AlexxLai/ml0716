{
  "nbformat": 4,
  "nbformat_minor": 0,
  "metadata": {
    "colab": {
      "name": "boston.ipynb",
      "provenance": [],
      "collapsed_sections": [],
      "authorship_tag": "ABX9TyM3bcjHacNU3/2vlylrCZO/",
      "include_colab_link": true
    },
    "kernelspec": {
      "name": "python3",
      "display_name": "Python 3"
    }
  },
  "cells": [
    {
      "cell_type": "markdown",
      "metadata": {
        "id": "view-in-github",
        "colab_type": "text"
      },
      "source": [
        "<a href=\"https://colab.research.google.com/github/AlexxLai/ml0716/blob/master/boston.ipynb\" target=\"_parent\"><img src=\"https://colab.research.google.com/assets/colab-badge.svg\" alt=\"Open In Colab\"/></a>"
      ]
    },
    {
      "cell_type": "markdown",
      "metadata": {
        "id": "HE2yiJQhrqmK",
        "colab_type": "text"
      },
      "source": [
        ""
      ]
    },
    {
      "cell_type": "code",
      "metadata": {
        "id": "jYFxH4lKcl2g",
        "colab_type": "code",
        "colab": {
          "base_uri": "https://localhost:8080/",
          "height": 402
        },
        "outputId": "8d57d3cb-f4cf-48d3-f4d2-f9baaf45b6fb"
      },
      "source": [
        "import pandas as pd\n",
        "from sklearn.datasets import load_boston\n",
        "boston = load_boston()\n",
        "# boston\n",
        "df = pd.DataFrame(boston[\"data\"],columns = boston[\"feature_names\"])\n",
        "df[\"answer\"] = boston[\"target\"]\n",
        "df.to_csv(\"boston.csv\",encoding = \"utf-8\",index = False) # index是最前項的0,1,2,...的值\n",
        "df"
      ],
      "execution_count": 5,
      "outputs": [
        {
          "output_type": "execute_result",
          "data": {
            "text/html": [
              "<div>\n",
              "<style scoped>\n",
              "    .dataframe tbody tr th:only-of-type {\n",
              "        vertical-align: middle;\n",
              "    }\n",
              "\n",
              "    .dataframe tbody tr th {\n",
              "        vertical-align: top;\n",
              "    }\n",
              "\n",
              "    .dataframe thead th {\n",
              "        text-align: right;\n",
              "    }\n",
              "</style>\n",
              "<table border=\"1\" class=\"dataframe\">\n",
              "  <thead>\n",
              "    <tr style=\"text-align: right;\">\n",
              "      <th></th>\n",
              "      <th>CRIM</th>\n",
              "      <th>ZN</th>\n",
              "      <th>INDUS</th>\n",
              "      <th>CHAS</th>\n",
              "      <th>NOX</th>\n",
              "      <th>RM</th>\n",
              "      <th>AGE</th>\n",
              "      <th>DIS</th>\n",
              "      <th>RAD</th>\n",
              "      <th>TAX</th>\n",
              "      <th>PTRATIO</th>\n",
              "      <th>B</th>\n",
              "      <th>LSTAT</th>\n",
              "      <th>answer</th>\n",
              "    </tr>\n",
              "  </thead>\n",
              "  <tbody>\n",
              "    <tr>\n",
              "      <th>0</th>\n",
              "      <td>0.00632</td>\n",
              "      <td>18.0</td>\n",
              "      <td>2.31</td>\n",
              "      <td>0.0</td>\n",
              "      <td>0.538</td>\n",
              "      <td>6.575</td>\n",
              "      <td>65.2</td>\n",
              "      <td>4.0900</td>\n",
              "      <td>1.0</td>\n",
              "      <td>296.0</td>\n",
              "      <td>15.3</td>\n",
              "      <td>396.90</td>\n",
              "      <td>4.98</td>\n",
              "      <td>24.0</td>\n",
              "    </tr>\n",
              "    <tr>\n",
              "      <th>1</th>\n",
              "      <td>0.02731</td>\n",
              "      <td>0.0</td>\n",
              "      <td>7.07</td>\n",
              "      <td>0.0</td>\n",
              "      <td>0.469</td>\n",
              "      <td>6.421</td>\n",
              "      <td>78.9</td>\n",
              "      <td>4.9671</td>\n",
              "      <td>2.0</td>\n",
              "      <td>242.0</td>\n",
              "      <td>17.8</td>\n",
              "      <td>396.90</td>\n",
              "      <td>9.14</td>\n",
              "      <td>21.6</td>\n",
              "    </tr>\n",
              "    <tr>\n",
              "      <th>2</th>\n",
              "      <td>0.02729</td>\n",
              "      <td>0.0</td>\n",
              "      <td>7.07</td>\n",
              "      <td>0.0</td>\n",
              "      <td>0.469</td>\n",
              "      <td>7.185</td>\n",
              "      <td>61.1</td>\n",
              "      <td>4.9671</td>\n",
              "      <td>2.0</td>\n",
              "      <td>242.0</td>\n",
              "      <td>17.8</td>\n",
              "      <td>392.83</td>\n",
              "      <td>4.03</td>\n",
              "      <td>34.7</td>\n",
              "    </tr>\n",
              "    <tr>\n",
              "      <th>3</th>\n",
              "      <td>0.03237</td>\n",
              "      <td>0.0</td>\n",
              "      <td>2.18</td>\n",
              "      <td>0.0</td>\n",
              "      <td>0.458</td>\n",
              "      <td>6.998</td>\n",
              "      <td>45.8</td>\n",
              "      <td>6.0622</td>\n",
              "      <td>3.0</td>\n",
              "      <td>222.0</td>\n",
              "      <td>18.7</td>\n",
              "      <td>394.63</td>\n",
              "      <td>2.94</td>\n",
              "      <td>33.4</td>\n",
              "    </tr>\n",
              "    <tr>\n",
              "      <th>4</th>\n",
              "      <td>0.06905</td>\n",
              "      <td>0.0</td>\n",
              "      <td>2.18</td>\n",
              "      <td>0.0</td>\n",
              "      <td>0.458</td>\n",
              "      <td>7.147</td>\n",
              "      <td>54.2</td>\n",
              "      <td>6.0622</td>\n",
              "      <td>3.0</td>\n",
              "      <td>222.0</td>\n",
              "      <td>18.7</td>\n",
              "      <td>396.90</td>\n",
              "      <td>5.33</td>\n",
              "      <td>36.2</td>\n",
              "    </tr>\n",
              "    <tr>\n",
              "      <th>...</th>\n",
              "      <td>...</td>\n",
              "      <td>...</td>\n",
              "      <td>...</td>\n",
              "      <td>...</td>\n",
              "      <td>...</td>\n",
              "      <td>...</td>\n",
              "      <td>...</td>\n",
              "      <td>...</td>\n",
              "      <td>...</td>\n",
              "      <td>...</td>\n",
              "      <td>...</td>\n",
              "      <td>...</td>\n",
              "      <td>...</td>\n",
              "      <td>...</td>\n",
              "    </tr>\n",
              "    <tr>\n",
              "      <th>501</th>\n",
              "      <td>0.06263</td>\n",
              "      <td>0.0</td>\n",
              "      <td>11.93</td>\n",
              "      <td>0.0</td>\n",
              "      <td>0.573</td>\n",
              "      <td>6.593</td>\n",
              "      <td>69.1</td>\n",
              "      <td>2.4786</td>\n",
              "      <td>1.0</td>\n",
              "      <td>273.0</td>\n",
              "      <td>21.0</td>\n",
              "      <td>391.99</td>\n",
              "      <td>9.67</td>\n",
              "      <td>22.4</td>\n",
              "    </tr>\n",
              "    <tr>\n",
              "      <th>502</th>\n",
              "      <td>0.04527</td>\n",
              "      <td>0.0</td>\n",
              "      <td>11.93</td>\n",
              "      <td>0.0</td>\n",
              "      <td>0.573</td>\n",
              "      <td>6.120</td>\n",
              "      <td>76.7</td>\n",
              "      <td>2.2875</td>\n",
              "      <td>1.0</td>\n",
              "      <td>273.0</td>\n",
              "      <td>21.0</td>\n",
              "      <td>396.90</td>\n",
              "      <td>9.08</td>\n",
              "      <td>20.6</td>\n",
              "    </tr>\n",
              "    <tr>\n",
              "      <th>503</th>\n",
              "      <td>0.06076</td>\n",
              "      <td>0.0</td>\n",
              "      <td>11.93</td>\n",
              "      <td>0.0</td>\n",
              "      <td>0.573</td>\n",
              "      <td>6.976</td>\n",
              "      <td>91.0</td>\n",
              "      <td>2.1675</td>\n",
              "      <td>1.0</td>\n",
              "      <td>273.0</td>\n",
              "      <td>21.0</td>\n",
              "      <td>396.90</td>\n",
              "      <td>5.64</td>\n",
              "      <td>23.9</td>\n",
              "    </tr>\n",
              "    <tr>\n",
              "      <th>504</th>\n",
              "      <td>0.10959</td>\n",
              "      <td>0.0</td>\n",
              "      <td>11.93</td>\n",
              "      <td>0.0</td>\n",
              "      <td>0.573</td>\n",
              "      <td>6.794</td>\n",
              "      <td>89.3</td>\n",
              "      <td>2.3889</td>\n",
              "      <td>1.0</td>\n",
              "      <td>273.0</td>\n",
              "      <td>21.0</td>\n",
              "      <td>393.45</td>\n",
              "      <td>6.48</td>\n",
              "      <td>22.0</td>\n",
              "    </tr>\n",
              "    <tr>\n",
              "      <th>505</th>\n",
              "      <td>0.04741</td>\n",
              "      <td>0.0</td>\n",
              "      <td>11.93</td>\n",
              "      <td>0.0</td>\n",
              "      <td>0.573</td>\n",
              "      <td>6.030</td>\n",
              "      <td>80.8</td>\n",
              "      <td>2.5050</td>\n",
              "      <td>1.0</td>\n",
              "      <td>273.0</td>\n",
              "      <td>21.0</td>\n",
              "      <td>396.90</td>\n",
              "      <td>7.88</td>\n",
              "      <td>11.9</td>\n",
              "    </tr>\n",
              "  </tbody>\n",
              "</table>\n",
              "<p>506 rows × 14 columns</p>\n",
              "</div>"
            ],
            "text/plain": [
              "        CRIM    ZN  INDUS  CHAS    NOX  ...    TAX  PTRATIO       B  LSTAT  answer\n",
              "0    0.00632  18.0   2.31   0.0  0.538  ...  296.0     15.3  396.90   4.98    24.0\n",
              "1    0.02731   0.0   7.07   0.0  0.469  ...  242.0     17.8  396.90   9.14    21.6\n",
              "2    0.02729   0.0   7.07   0.0  0.469  ...  242.0     17.8  392.83   4.03    34.7\n",
              "3    0.03237   0.0   2.18   0.0  0.458  ...  222.0     18.7  394.63   2.94    33.4\n",
              "4    0.06905   0.0   2.18   0.0  0.458  ...  222.0     18.7  396.90   5.33    36.2\n",
              "..       ...   ...    ...   ...    ...  ...    ...      ...     ...    ...     ...\n",
              "501  0.06263   0.0  11.93   0.0  0.573  ...  273.0     21.0  391.99   9.67    22.4\n",
              "502  0.04527   0.0  11.93   0.0  0.573  ...  273.0     21.0  396.90   9.08    20.6\n",
              "503  0.06076   0.0  11.93   0.0  0.573  ...  273.0     21.0  396.90   5.64    23.9\n",
              "504  0.10959   0.0  11.93   0.0  0.573  ...  273.0     21.0  393.45   6.48    22.0\n",
              "505  0.04741   0.0  11.93   0.0  0.573  ...  273.0     21.0  396.90   7.88    11.9\n",
              "\n",
              "[506 rows x 14 columns]"
            ]
          },
          "metadata": {
            "tags": []
          },
          "execution_count": 5
        }
      ]
    },
    {
      "cell_type": "code",
      "metadata": {
        "id": "fuet99Q6PxZ_",
        "colab_type": "code",
        "colab": {}
      },
      "source": [
        "from sklearn.model_selection import train_test_split # 設計測試資料集，引入此套件\n",
        "# [90% data , 10% data , 90% target , 10% target]\n",
        "x_train,x_test,y_train,y_test = train_test_split(boston[\"data\"],\n",
        "                                                boston[\"target\"],\n",
        "                                                test_size = 0.1 # 依照位置切割比例\n",
        "                                                              )\n"
      ],
      "execution_count": 6,
      "outputs": []
    },
    {
      "cell_type": "code",
      "metadata": {
        "id": "khIf_gRWSjKy",
        "colab_type": "code",
        "colab": {
          "base_uri": "https://localhost:8080/",
          "height": 118
        },
        "outputId": "d41d6b8d-2d7c-48ed-e095-27976b49dbad"
      },
      "source": [
        "from sklearn.tree import DecisionTreeRegressor # 引入決策樹套件\n",
        "# clf = DecisionTreeRegressor() # 交由程式設定節點值\n",
        "reg = DecisionTreeRegressor(max_depth = 5,random_state = 0) # random_state固定才能夠比較，否則在每執行一次，就回\n",
        "                                                            # 重新抓取再訓練一次模型，會造成每次結果不同，無從比較\n",
        "reg.fit(x_train,y_train)"
      ],
      "execution_count": 7,
      "outputs": [
        {
          "output_type": "execute_result",
          "data": {
            "text/plain": [
              "DecisionTreeRegressor(ccp_alpha=0.0, criterion='mse', max_depth=5,\n",
              "                      max_features=None, max_leaf_nodes=None,\n",
              "                      min_impurity_decrease=0.0, min_impurity_split=None,\n",
              "                      min_samples_leaf=1, min_samples_split=2,\n",
              "                      min_weight_fraction_leaf=0.0, presort='deprecated',\n",
              "                      random_state=None, splitter='best')"
            ]
          },
          "metadata": {
            "tags": []
          },
          "execution_count": 7
        }
      ]
    },
    {
      "cell_type": "code",
      "metadata": {
        "id": "ztqI9IyPTncA",
        "colab_type": "code",
        "colab": {
          "base_uri": "https://localhost:8080/",
          "height": 654
        },
        "outputId": "2ea32dca-0cdb-4349-8d84-a1aa75323a3d"
      },
      "source": [
        "import graphviz\n",
        "from sklearn.tree import export_graphviz\n",
        "g = export_graphviz(reg,\n",
        "                    feature_names = boston[\"feature_names\"],\n",
        "                    filled = True, # 顏色\n",
        "                    max_depth = 3  # 顯示出要的層數\n",
        "                    )\n",
        "graphviz.Source(g)"
      ],
      "execution_count": 13,
      "outputs": [
        {
          "output_type": "execute_result",
          "data": {
            "text/plain": [
              "<graphviz.files.Source at 0x7fbbd2536198>"
            ],
            "image/svg+xml": "<?xml version=\"1.0\" encoding=\"UTF-8\" standalone=\"no\"?>\n<!DOCTYPE svg PUBLIC \"-//W3C//DTD SVG 1.1//EN\"\n \"http://www.w3.org/Graphics/SVG/1.1/DTD/svg11.dtd\">\n<!-- Generated by graphviz version 2.40.1 (20161225.0304)\n -->\n<!-- Title: Tree Pages: 1 -->\n<svg width=\"1040pt\" height=\"460pt\"\n viewBox=\"0.00 0.00 1039.50 460.00\" xmlns=\"http://www.w3.org/2000/svg\" xmlns:xlink=\"http://www.w3.org/1999/xlink\">\n<g id=\"graph0\" class=\"graph\" transform=\"scale(1 1) rotate(0) translate(4 456)\">\n<title>Tree</title>\n<polygon fill=\"#ffffff\" stroke=\"transparent\" points=\"-4,4 -4,-456 1035.5,-456 1035.5,4 -4,4\"/>\n<!-- 0 -->\n<g id=\"node1\" class=\"node\">\n<title>0</title>\n<polygon fill=\"#f7d7c0\" stroke=\"#000000\" points=\"511.5,-452 393.5,-452 393.5,-384 511.5,-384 511.5,-452\"/>\n<text text-anchor=\"middle\" x=\"452.5\" y=\"-436.8\" font-family=\"Times,serif\" font-size=\"14.00\" fill=\"#000000\">LSTAT &lt;= 9.725</text>\n<text text-anchor=\"middle\" x=\"452.5\" y=\"-421.8\" font-family=\"Times,serif\" font-size=\"14.00\" fill=\"#000000\">mse = 85.555</text>\n<text text-anchor=\"middle\" x=\"452.5\" y=\"-406.8\" font-family=\"Times,serif\" font-size=\"14.00\" fill=\"#000000\">samples = 455</text>\n<text text-anchor=\"middle\" x=\"452.5\" y=\"-391.8\" font-family=\"Times,serif\" font-size=\"14.00\" fill=\"#000000\">value = 22.637</text>\n</g>\n<!-- 1 -->\n<g id=\"node2\" class=\"node\">\n<title>1</title>\n<polygon fill=\"#f2c09c\" stroke=\"#000000\" points=\"436.5,-348 332.5,-348 332.5,-280 436.5,-280 436.5,-348\"/>\n<text text-anchor=\"middle\" x=\"384.5\" y=\"-332.8\" font-family=\"Times,serif\" font-size=\"14.00\" fill=\"#000000\">RM &lt;= 7.437</text>\n<text text-anchor=\"middle\" x=\"384.5\" y=\"-317.8\" font-family=\"Times,serif\" font-size=\"14.00\" fill=\"#000000\">mse = 77.617</text>\n<text text-anchor=\"middle\" x=\"384.5\" y=\"-302.8\" font-family=\"Times,serif\" font-size=\"14.00\" fill=\"#000000\">samples = 191</text>\n<text text-anchor=\"middle\" x=\"384.5\" y=\"-287.8\" font-family=\"Times,serif\" font-size=\"14.00\" fill=\"#000000\">value = 29.992</text>\n</g>\n<!-- 0&#45;&gt;1 -->\n<g id=\"edge1\" class=\"edge\">\n<title>0&#45;&gt;1</title>\n<path fill=\"none\" stroke=\"#000000\" d=\"M430.2343,-383.9465C424.5398,-375.2373 418.3448,-365.7626 412.4062,-356.6801\"/>\n<polygon fill=\"#000000\" stroke=\"#000000\" points=\"415.2177,-354.5843 406.8158,-348.13 409.3589,-358.4151 415.2177,-354.5843\"/>\n<text text-anchor=\"middle\" x=\"401.6942\" y=\"-368.8998\" font-family=\"Times,serif\" font-size=\"14.00\" fill=\"#000000\">True</text>\n</g>\n<!-- 20 -->\n<g id=\"node13\" class=\"node\">\n<title>20</title>\n<polygon fill=\"#fae8da\" stroke=\"#000000\" points=\"630.5,-348 520.5,-348 520.5,-280 630.5,-280 630.5,-348\"/>\n<text text-anchor=\"middle\" x=\"575.5\" y=\"-332.8\" font-family=\"Times,serif\" font-size=\"14.00\" fill=\"#000000\">LSTAT &lt;= 15.0</text>\n<text text-anchor=\"middle\" x=\"575.5\" y=\"-317.8\" font-family=\"Times,serif\" font-size=\"14.00\" fill=\"#000000\">mse = 23.85</text>\n<text text-anchor=\"middle\" x=\"575.5\" y=\"-302.8\" font-family=\"Times,serif\" font-size=\"14.00\" fill=\"#000000\">samples = 264</text>\n<text text-anchor=\"middle\" x=\"575.5\" y=\"-287.8\" font-family=\"Times,serif\" font-size=\"14.00\" fill=\"#000000\">value = 17.316</text>\n</g>\n<!-- 0&#45;&gt;20 -->\n<g id=\"edge12\" class=\"edge\">\n<title>0&#45;&gt;20</title>\n<path fill=\"none\" stroke=\"#000000\" d=\"M492.7748,-383.9465C503.8184,-374.6088 515.9028,-364.3911 527.3404,-354.7203\"/>\n<polygon fill=\"#000000\" stroke=\"#000000\" points=\"529.7583,-357.2594 535.1347,-348.13 525.2386,-351.914 529.7583,-357.2594\"/>\n<text text-anchor=\"middle\" x=\"533.0495\" y=\"-369.3429\" font-family=\"Times,serif\" font-size=\"14.00\" fill=\"#000000\">False</text>\n</g>\n<!-- 2 -->\n<g id=\"node3\" class=\"node\">\n<title>2</title>\n<polygon fill=\"#f4c7a8\" stroke=\"#000000\" points=\"211.5,-244 107.5,-244 107.5,-176 211.5,-176 211.5,-244\"/>\n<text text-anchor=\"middle\" x=\"159.5\" y=\"-228.8\" font-family=\"Times,serif\" font-size=\"14.00\" fill=\"#000000\">DIS &lt;= 1.485</text>\n<text text-anchor=\"middle\" x=\"159.5\" y=\"-213.8\" font-family=\"Times,serif\" font-size=\"14.00\" fill=\"#000000\">mse = 42.052</text>\n<text text-anchor=\"middle\" x=\"159.5\" y=\"-198.8\" font-family=\"Times,serif\" font-size=\"14.00\" fill=\"#000000\">samples = 165</text>\n<text text-anchor=\"middle\" x=\"159.5\" y=\"-183.8\" font-family=\"Times,serif\" font-size=\"14.00\" fill=\"#000000\">value = 27.608</text>\n</g>\n<!-- 1&#45;&gt;2 -->\n<g id=\"edge2\" class=\"edge\">\n<title>1&#45;&gt;2</title>\n<path fill=\"none\" stroke=\"#000000\" d=\"M332.3149,-289.8789C299.0666,-274.5108 255.8393,-254.5302 220.9359,-238.397\"/>\n<polygon fill=\"#000000\" stroke=\"#000000\" points=\"222.3371,-235.1889 211.7913,-234.1702 219.4,-241.543 222.3371,-235.1889\"/>\n</g>\n<!-- 11 -->\n<g id=\"node8\" class=\"node\">\n<title>11</title>\n<polygon fill=\"#e89051\" stroke=\"#000000\" points=\"451.5,-244 317.5,-244 317.5,-176 451.5,-176 451.5,-244\"/>\n<text text-anchor=\"middle\" x=\"384.5\" y=\"-228.8\" font-family=\"Times,serif\" font-size=\"14.00\" fill=\"#000000\">PTRATIO &lt;= 19.65</text>\n<text text-anchor=\"middle\" x=\"384.5\" y=\"-213.8\" font-family=\"Times,serif\" font-size=\"14.00\" fill=\"#000000\">mse = 38.551</text>\n<text text-anchor=\"middle\" x=\"384.5\" y=\"-198.8\" font-family=\"Times,serif\" font-size=\"14.00\" fill=\"#000000\">samples = 26</text>\n<text text-anchor=\"middle\" x=\"384.5\" y=\"-183.8\" font-family=\"Times,serif\" font-size=\"14.00\" fill=\"#000000\">value = 45.115</text>\n</g>\n<!-- 1&#45;&gt;11 -->\n<g id=\"edge7\" class=\"edge\">\n<title>1&#45;&gt;11</title>\n<path fill=\"none\" stroke=\"#000000\" d=\"M384.5,-279.9465C384.5,-271.776 384.5,-262.9318 384.5,-254.3697\"/>\n<polygon fill=\"#000000\" stroke=\"#000000\" points=\"388.0001,-254.13 384.5,-244.13 381.0001,-254.13 388.0001,-254.13\"/>\n</g>\n<!-- 3 -->\n<g id=\"node4\" class=\"node\">\n<title>3</title>\n<polygon fill=\"#e58139\" stroke=\"#000000\" points=\"89,-132.5 0,-132.5 0,-79.5 89,-79.5 89,-132.5\"/>\n<text text-anchor=\"middle\" x=\"44.5\" y=\"-117.3\" font-family=\"Times,serif\" font-size=\"14.00\" fill=\"#000000\">mse = 0.0</text>\n<text text-anchor=\"middle\" x=\"44.5\" y=\"-102.3\" font-family=\"Times,serif\" font-size=\"14.00\" fill=\"#000000\">samples = 5</text>\n<text text-anchor=\"middle\" x=\"44.5\" y=\"-87.3\" font-family=\"Times,serif\" font-size=\"14.00\" fill=\"#000000\">value = 50.0</text>\n</g>\n<!-- 2&#45;&gt;3 -->\n<g id=\"edge3\" class=\"edge\">\n<title>2&#45;&gt;3</title>\n<path fill=\"none\" stroke=\"#000000\" d=\"M121.8447,-175.9465C108.8122,-164.1606 94.2294,-150.9726 81.2689,-139.2519\"/>\n<polygon fill=\"#000000\" stroke=\"#000000\" points=\"83.614,-136.6537 73.8495,-132.5422 78.9188,-141.8456 83.614,-136.6537\"/>\n</g>\n<!-- 4 -->\n<g id=\"node5\" class=\"node\">\n<title>4</title>\n<polygon fill=\"#f4caab\" stroke=\"#000000\" points=\"211.5,-140 107.5,-140 107.5,-72 211.5,-72 211.5,-140\"/>\n<text text-anchor=\"middle\" x=\"159.5\" y=\"-124.8\" font-family=\"Times,serif\" font-size=\"14.00\" fill=\"#000000\">RM &lt;= 6.797</text>\n<text text-anchor=\"middle\" x=\"159.5\" y=\"-109.8\" font-family=\"Times,serif\" font-size=\"14.00\" fill=\"#000000\">mse = 27.208</text>\n<text text-anchor=\"middle\" x=\"159.5\" y=\"-94.8\" font-family=\"Times,serif\" font-size=\"14.00\" fill=\"#000000\">samples = 160</text>\n<text text-anchor=\"middle\" x=\"159.5\" y=\"-79.8\" font-family=\"Times,serif\" font-size=\"14.00\" fill=\"#000000\">value = 26.909</text>\n</g>\n<!-- 2&#45;&gt;4 -->\n<g id=\"edge4\" class=\"edge\">\n<title>2&#45;&gt;4</title>\n<path fill=\"none\" stroke=\"#000000\" d=\"M159.5,-175.9465C159.5,-167.776 159.5,-158.9318 159.5,-150.3697\"/>\n<polygon fill=\"#000000\" stroke=\"#000000\" points=\"163.0001,-150.13 159.5,-140.13 156.0001,-150.13 163.0001,-150.13\"/>\n</g>\n<!-- 5 -->\n<g id=\"node6\" class=\"node\">\n<title>5</title>\n<polygon fill=\"#c0c0c0\" stroke=\"#000000\" points=\"130.5,-36 76.5,-36 76.5,0 130.5,0 130.5,-36\"/>\n<text text-anchor=\"middle\" x=\"103.5\" y=\"-14.3\" font-family=\"Times,serif\" font-size=\"14.00\" fill=\"#000000\">(...)</text>\n</g>\n<!-- 4&#45;&gt;5 -->\n<g id=\"edge5\" class=\"edge\">\n<title>4&#45;&gt;5</title>\n<path fill=\"none\" stroke=\"#000000\" d=\"M137.8489,-71.9769C132.0925,-62.931 125.9581,-53.2913 120.49,-44.6986\"/>\n<polygon fill=\"#000000\" stroke=\"#000000\" points=\"123.3983,-42.7495 115.0767,-36.192 117.4927,-46.5077 123.3983,-42.7495\"/>\n</g>\n<!-- 8 -->\n<g id=\"node7\" class=\"node\">\n<title>8</title>\n<polygon fill=\"#c0c0c0\" stroke=\"#000000\" points=\"202.5,-36 148.5,-36 148.5,0 202.5,0 202.5,-36\"/>\n<text text-anchor=\"middle\" x=\"175.5\" y=\"-14.3\" font-family=\"Times,serif\" font-size=\"14.00\" fill=\"#000000\">(...)</text>\n</g>\n<!-- 4&#45;&gt;8 -->\n<g id=\"edge6\" class=\"edge\">\n<title>4&#45;&gt;8</title>\n<path fill=\"none\" stroke=\"#000000\" d=\"M165.686,-71.9769C167.2442,-63.4071 168.8992,-54.3043 170.3975,-46.0638\"/>\n<polygon fill=\"#000000\" stroke=\"#000000\" points=\"173.847,-46.6568 172.1924,-36.192 166.9599,-45.4045 173.847,-46.6568\"/>\n</g>\n<!-- 12 -->\n<g id=\"node9\" class=\"node\">\n<title>12</title>\n<polygon fill=\"#e88d4d\" stroke=\"#000000\" points=\"357,-140 230,-140 230,-72 357,-72 357,-140\"/>\n<text text-anchor=\"middle\" x=\"293.5\" y=\"-124.8\" font-family=\"Times,serif\" font-size=\"14.00\" fill=\"#000000\">PTRATIO &lt;= 17.9</text>\n<text text-anchor=\"middle\" x=\"293.5\" y=\"-109.8\" font-family=\"Times,serif\" font-size=\"14.00\" fill=\"#000000\">mse = 17.673</text>\n<text text-anchor=\"middle\" x=\"293.5\" y=\"-94.8\" font-family=\"Times,serif\" font-size=\"14.00\" fill=\"#000000\">samples = 25</text>\n<text text-anchor=\"middle\" x=\"293.5\" y=\"-79.8\" font-family=\"Times,serif\" font-size=\"14.00\" fill=\"#000000\">value = 46.044</text>\n</g>\n<!-- 11&#45;&gt;12 -->\n<g id=\"edge8\" class=\"edge\">\n<title>11&#45;&gt;12</title>\n<path fill=\"none\" stroke=\"#000000\" d=\"M354.7032,-175.9465C346.847,-166.968 338.2788,-157.1758 330.1087,-147.8385\"/>\n<polygon fill=\"#000000\" stroke=\"#000000\" points=\"332.5829,-145.351 323.3637,-140.13 327.3148,-149.9606 332.5829,-145.351\"/>\n</g>\n<!-- 19 -->\n<g id=\"node12\" class=\"node\">\n<title>19</title>\n<polygon fill=\"#f7d9c4\" stroke=\"#000000\" points=\"464,-132.5 375,-132.5 375,-79.5 464,-79.5 464,-132.5\"/>\n<text text-anchor=\"middle\" x=\"419.5\" y=\"-117.3\" font-family=\"Times,serif\" font-size=\"14.00\" fill=\"#000000\">mse = &#45;0.0</text>\n<text text-anchor=\"middle\" x=\"419.5\" y=\"-102.3\" font-family=\"Times,serif\" font-size=\"14.00\" fill=\"#000000\">samples = 1</text>\n<text text-anchor=\"middle\" x=\"419.5\" y=\"-87.3\" font-family=\"Times,serif\" font-size=\"14.00\" fill=\"#000000\">value = 21.9</text>\n</g>\n<!-- 11&#45;&gt;19 -->\n<g id=\"edge11\" class=\"edge\">\n<title>11&#45;&gt;19</title>\n<path fill=\"none\" stroke=\"#000000\" d=\"M395.9603,-175.9465C399.5931,-165.1519 403.6217,-153.1813 407.3042,-142.2389\"/>\n<polygon fill=\"#000000\" stroke=\"#000000\" points=\"410.6951,-143.1362 410.5675,-132.5422 404.0607,-140.9035 410.6951,-143.1362\"/>\n</g>\n<!-- 13 -->\n<g id=\"node10\" class=\"node\">\n<title>13</title>\n<polygon fill=\"#c0c0c0\" stroke=\"#000000\" points=\"305.5,-36 251.5,-36 251.5,0 305.5,0 305.5,-36\"/>\n<text text-anchor=\"middle\" x=\"278.5\" y=\"-14.3\" font-family=\"Times,serif\" font-size=\"14.00\" fill=\"#000000\">(...)</text>\n</g>\n<!-- 12&#45;&gt;13 -->\n<g id=\"edge9\" class=\"edge\">\n<title>12&#45;&gt;13</title>\n<path fill=\"none\" stroke=\"#000000\" d=\"M287.7006,-71.9769C286.2399,-63.4071 284.6882,-54.3043 283.2836,-46.0638\"/>\n<polygon fill=\"#000000\" stroke=\"#000000\" points=\"286.7315,-45.4616 281.6009,-36.192 279.8311,-46.6379 286.7315,-45.4616\"/>\n</g>\n<!-- 16 -->\n<g id=\"node11\" class=\"node\">\n<title>16</title>\n<polygon fill=\"#c0c0c0\" stroke=\"#000000\" points=\"377.5,-36 323.5,-36 323.5,0 377.5,0 377.5,-36\"/>\n<text text-anchor=\"middle\" x=\"350.5\" y=\"-14.3\" font-family=\"Times,serif\" font-size=\"14.00\" fill=\"#000000\">(...)</text>\n</g>\n<!-- 12&#45;&gt;16 -->\n<g id=\"edge10\" class=\"edge\">\n<title>12&#45;&gt;16</title>\n<path fill=\"none\" stroke=\"#000000\" d=\"M315.5377,-71.9769C321.397,-62.931 327.6409,-53.2913 333.2066,-44.6986\"/>\n<polygon fill=\"#000000\" stroke=\"#000000\" points=\"336.2177,-46.4879 338.7166,-36.192 330.3425,-42.6823 336.2177,-46.4879\"/>\n</g>\n<!-- 21 -->\n<g id=\"node14\" class=\"node\">\n<title>21</title>\n<polygon fill=\"#f8ddc9\" stroke=\"#000000\" points=\"627.5,-244 523.5,-244 523.5,-176 627.5,-176 627.5,-244\"/>\n<text text-anchor=\"middle\" x=\"575.5\" y=\"-228.8\" font-family=\"Times,serif\" font-size=\"14.00\" fill=\"#000000\">RM &lt;= 6.776</text>\n<text text-anchor=\"middle\" x=\"575.5\" y=\"-213.8\" font-family=\"Times,serif\" font-size=\"14.00\" fill=\"#000000\">mse = 9.338</text>\n<text text-anchor=\"middle\" x=\"575.5\" y=\"-198.8\" font-family=\"Times,serif\" font-size=\"14.00\" fill=\"#000000\">samples = 115</text>\n<text text-anchor=\"middle\" x=\"575.5\" y=\"-183.8\" font-family=\"Times,serif\" font-size=\"14.00\" fill=\"#000000\">value = 20.777</text>\n</g>\n<!-- 20&#45;&gt;21 -->\n<g id=\"edge13\" class=\"edge\">\n<title>20&#45;&gt;21</title>\n<path fill=\"none\" stroke=\"#000000\" d=\"M575.5,-279.9465C575.5,-271.776 575.5,-262.9318 575.5,-254.3697\"/>\n<polygon fill=\"#000000\" stroke=\"#000000\" points=\"579.0001,-254.13 575.5,-244.13 572.0001,-254.13 579.0001,-254.13\"/>\n</g>\n<!-- 32 -->\n<g id=\"node21\" class=\"node\">\n<title>32</title>\n<polygon fill=\"#fcf0e8\" stroke=\"#000000\" points=\"852.5,-244 746.5,-244 746.5,-176 852.5,-176 852.5,-244\"/>\n<text text-anchor=\"middle\" x=\"799.5\" y=\"-228.8\" font-family=\"Times,serif\" font-size=\"14.00\" fill=\"#000000\">NOX &lt;= 0.603</text>\n<text text-anchor=\"middle\" x=\"799.5\" y=\"-213.8\" font-family=\"Times,serif\" font-size=\"14.00\" fill=\"#000000\">mse = 18.673</text>\n<text text-anchor=\"middle\" x=\"799.5\" y=\"-198.8\" font-family=\"Times,serif\" font-size=\"14.00\" fill=\"#000000\">samples = 149</text>\n<text text-anchor=\"middle\" x=\"799.5\" y=\"-183.8\" font-family=\"Times,serif\" font-size=\"14.00\" fill=\"#000000\">value = 14.645</text>\n</g>\n<!-- 20&#45;&gt;32 -->\n<g id=\"edge20\" class=\"edge\">\n<title>20&#45;&gt;32</title>\n<path fill=\"none\" stroke=\"#000000\" d=\"M630.5835,-288.4255C662.7902,-273.4724 703.5491,-254.5486 736.9599,-239.0365\"/>\n<polygon fill=\"#000000\" stroke=\"#000000\" points=\"738.5792,-242.1435 746.1754,-234.7578 735.6314,-235.7945 738.5792,-242.1435\"/>\n</g>\n<!-- 22 -->\n<g id=\"node15\" class=\"node\">\n<title>22</title>\n<polygon fill=\"#f8decb\" stroke=\"#000000\" points=\"601,-140 482,-140 482,-72 601,-72 601,-140\"/>\n<text text-anchor=\"middle\" x=\"541.5\" y=\"-124.8\" font-family=\"Times,serif\" font-size=\"14.00\" fill=\"#000000\">CRIM &lt;= 25.998</text>\n<text text-anchor=\"middle\" x=\"541.5\" y=\"-109.8\" font-family=\"Times,serif\" font-size=\"14.00\" fill=\"#000000\">mse = 6.425</text>\n<text text-anchor=\"middle\" x=\"541.5\" y=\"-94.8\" font-family=\"Times,serif\" font-size=\"14.00\" fill=\"#000000\">samples = 109</text>\n<text text-anchor=\"middle\" x=\"541.5\" y=\"-79.8\" font-family=\"Times,serif\" font-size=\"14.00\" fill=\"#000000\">value = 20.489</text>\n</g>\n<!-- 21&#45;&gt;22 -->\n<g id=\"edge14\" class=\"edge\">\n<title>21&#45;&gt;22</title>\n<path fill=\"none\" stroke=\"#000000\" d=\"M564.3671,-175.9465C561.6373,-167.5965 558.6774,-158.5427 555.8211,-149.8056\"/>\n<polygon fill=\"#000000\" stroke=\"#000000\" points=\"559.0921,-148.5473 552.6579,-140.13 552.4386,-150.7226 559.0921,-148.5473\"/>\n</g>\n<!-- 27 -->\n<g id=\"node18\" class=\"node\">\n<title>27</title>\n<polygon fill=\"#f5ccb0\" stroke=\"#000000\" points=\"725.5,-140 619.5,-140 619.5,-72 725.5,-72 725.5,-140\"/>\n<text text-anchor=\"middle\" x=\"672.5\" y=\"-124.8\" font-family=\"Times,serif\" font-size=\"14.00\" fill=\"#000000\">NOX &lt;= 0.659</text>\n<text text-anchor=\"middle\" x=\"672.5\" y=\"-109.8\" font-family=\"Times,serif\" font-size=\"14.00\" fill=\"#000000\">mse = 33.463</text>\n<text text-anchor=\"middle\" x=\"672.5\" y=\"-94.8\" font-family=\"Times,serif\" font-size=\"14.00\" fill=\"#000000\">samples = 6</text>\n<text text-anchor=\"middle\" x=\"672.5\" y=\"-79.8\" font-family=\"Times,serif\" font-size=\"14.00\" fill=\"#000000\">value = 26.0</text>\n</g>\n<!-- 21&#45;&gt;27 -->\n<g id=\"edge17\" class=\"edge\">\n<title>21&#45;&gt;27</title>\n<path fill=\"none\" stroke=\"#000000\" d=\"M607.2614,-175.9465C615.7194,-166.8782 624.9514,-156.9799 633.7387,-147.5585\"/>\n<polygon fill=\"#000000\" stroke=\"#000000\" points=\"636.406,-149.8302 640.6672,-140.13 631.287,-145.0557 636.406,-149.8302\"/>\n</g>\n<!-- 23 -->\n<g id=\"node16\" class=\"node\">\n<title>23</title>\n<polygon fill=\"#c0c0c0\" stroke=\"#000000\" points=\"498.5,-36 444.5,-36 444.5,0 498.5,0 498.5,-36\"/>\n<text text-anchor=\"middle\" x=\"471.5\" y=\"-14.3\" font-family=\"Times,serif\" font-size=\"14.00\" fill=\"#000000\">(...)</text>\n</g>\n<!-- 22&#45;&gt;23 -->\n<g id=\"edge15\" class=\"edge\">\n<title>22&#45;&gt;23</title>\n<path fill=\"none\" stroke=\"#000000\" d=\"M514.4362,-71.9769C507.0891,-62.7406 499.2495,-52.8851 492.3069,-44.1573\"/>\n<polygon fill=\"#000000\" stroke=\"#000000\" points=\"494.9353,-41.8391 485.9709,-36.192 489.457,-46.1968 494.9353,-41.8391\"/>\n</g>\n<!-- 26 -->\n<g id=\"node17\" class=\"node\">\n<title>26</title>\n<polygon fill=\"#c0c0c0\" stroke=\"#000000\" points=\"570.5,-36 516.5,-36 516.5,0 570.5,0 570.5,-36\"/>\n<text text-anchor=\"middle\" x=\"543.5\" y=\"-14.3\" font-family=\"Times,serif\" font-size=\"14.00\" fill=\"#000000\">(...)</text>\n</g>\n<!-- 22&#45;&gt;26 -->\n<g id=\"edge16\" class=\"edge\">\n<title>22&#45;&gt;26</title>\n<path fill=\"none\" stroke=\"#000000\" d=\"M542.2733,-71.9769C542.4659,-63.5023 542.6703,-54.5065 542.8559,-46.3388\"/>\n<polygon fill=\"#000000\" stroke=\"#000000\" points=\"546.3583,-46.2689 543.0865,-36.192 539.3601,-46.1098 546.3583,-46.2689\"/>\n</g>\n<!-- 28 -->\n<g id=\"node19\" class=\"node\">\n<title>28</title>\n<polygon fill=\"#c0c0c0\" stroke=\"#000000\" points=\"659.5,-36 605.5,-36 605.5,0 659.5,0 659.5,-36\"/>\n<text text-anchor=\"middle\" x=\"632.5\" y=\"-14.3\" font-family=\"Times,serif\" font-size=\"14.00\" fill=\"#000000\">(...)</text>\n</g>\n<!-- 27&#45;&gt;28 -->\n<g id=\"edge18\" class=\"edge\">\n<title>27&#45;&gt;28</title>\n<path fill=\"none\" stroke=\"#000000\" d=\"M657.035,-71.9769C653.053,-63.2167 648.818,-53.8995 645.0071,-45.5157\"/>\n<polygon fill=\"#000000\" stroke=\"#000000\" points=\"648.0934,-43.8473 640.7691,-36.192 641.7209,-46.744 648.0934,-43.8473\"/>\n</g>\n<!-- 31 -->\n<g id=\"node20\" class=\"node\">\n<title>31</title>\n<polygon fill=\"#c0c0c0\" stroke=\"#000000\" points=\"731.5,-36 677.5,-36 677.5,0 731.5,0 731.5,-36\"/>\n<text text-anchor=\"middle\" x=\"704.5\" y=\"-14.3\" font-family=\"Times,serif\" font-size=\"14.00\" fill=\"#000000\">(...)</text>\n</g>\n<!-- 27&#45;&gt;31 -->\n<g id=\"edge19\" class=\"edge\">\n<title>27&#45;&gt;31</title>\n<path fill=\"none\" stroke=\"#000000\" d=\"M684.872,-71.9769C688.0229,-63.3119 691.372,-54.102 694.3948,-45.7894\"/>\n<polygon fill=\"#000000\" stroke=\"#000000\" points=\"697.7565,-46.786 697.8847,-36.192 691.178,-44.3938 697.7565,-46.786\"/>\n</g>\n<!-- 33 -->\n<g id=\"node22\" class=\"node\">\n<title>33</title>\n<polygon fill=\"#fae6d7\" stroke=\"#000000\" points=\"855,-140 744,-140 744,-72 855,-72 855,-140\"/>\n<text text-anchor=\"middle\" x=\"799.5\" y=\"-124.8\" font-family=\"Times,serif\" font-size=\"14.00\" fill=\"#000000\">CRIM &lt;= 0.593</text>\n<text text-anchor=\"middle\" x=\"799.5\" y=\"-109.8\" font-family=\"Times,serif\" font-size=\"14.00\" fill=\"#000000\">mse = 13.116</text>\n<text text-anchor=\"middle\" x=\"799.5\" y=\"-94.8\" font-family=\"Times,serif\" font-size=\"14.00\" fill=\"#000000\">samples = 54</text>\n<text text-anchor=\"middle\" x=\"799.5\" y=\"-79.8\" font-family=\"Times,serif\" font-size=\"14.00\" fill=\"#000000\">value = 17.961</text>\n</g>\n<!-- 32&#45;&gt;33 -->\n<g id=\"edge21\" class=\"edge\">\n<title>32&#45;&gt;33</title>\n<path fill=\"none\" stroke=\"#000000\" d=\"M799.5,-175.9465C799.5,-167.776 799.5,-158.9318 799.5,-150.3697\"/>\n<polygon fill=\"#000000\" stroke=\"#000000\" points=\"803.0001,-150.13 799.5,-140.13 796.0001,-150.13 803.0001,-150.13\"/>\n</g>\n<!-- 40 -->\n<g id=\"node25\" class=\"node\">\n<title>40</title>\n<polygon fill=\"#fdf6f1\" stroke=\"#000000\" points=\"998,-140 873,-140 873,-72 998,-72 998,-140\"/>\n<text text-anchor=\"middle\" x=\"935.5\" y=\"-124.8\" font-family=\"Times,serif\" font-size=\"14.00\" fill=\"#000000\">LSTAT &lt;= 19.645</text>\n<text text-anchor=\"middle\" x=\"935.5\" y=\"-109.8\" font-family=\"Times,serif\" font-size=\"14.00\" fill=\"#000000\">mse = 12.029</text>\n<text text-anchor=\"middle\" x=\"935.5\" y=\"-94.8\" font-family=\"Times,serif\" font-size=\"14.00\" fill=\"#000000\">samples = 95</text>\n<text text-anchor=\"middle\" x=\"935.5\" y=\"-79.8\" font-family=\"Times,serif\" font-size=\"14.00\" fill=\"#000000\">value = 12.76</text>\n</g>\n<!-- 32&#45;&gt;40 -->\n<g id=\"edge24\" class=\"edge\">\n<title>32&#45;&gt;40</title>\n<path fill=\"none\" stroke=\"#000000\" d=\"M844.0315,-175.9465C856.3597,-166.519 869.8609,-156.1946 882.615,-146.4415\"/>\n<polygon fill=\"#000000\" stroke=\"#000000\" points=\"885.051,-148.9848 890.8685,-140.13 880.7988,-143.4243 885.051,-148.9848\"/>\n</g>\n<!-- 34 -->\n<g id=\"node23\" class=\"node\">\n<title>34</title>\n<polygon fill=\"#c0c0c0\" stroke=\"#000000\" points=\"811.5,-36 757.5,-36 757.5,0 811.5,0 811.5,-36\"/>\n<text text-anchor=\"middle\" x=\"784.5\" y=\"-14.3\" font-family=\"Times,serif\" font-size=\"14.00\" fill=\"#000000\">(...)</text>\n</g>\n<!-- 33&#45;&gt;34 -->\n<g id=\"edge22\" class=\"edge\">\n<title>33&#45;&gt;34</title>\n<path fill=\"none\" stroke=\"#000000\" d=\"M793.7006,-71.9769C792.2399,-63.4071 790.6882,-54.3043 789.2836,-46.0638\"/>\n<polygon fill=\"#000000\" stroke=\"#000000\" points=\"792.7315,-45.4616 787.6009,-36.192 785.8311,-46.6379 792.7315,-45.4616\"/>\n</g>\n<!-- 37 -->\n<g id=\"node24\" class=\"node\">\n<title>37</title>\n<polygon fill=\"#c0c0c0\" stroke=\"#000000\" points=\"883.5,-36 829.5,-36 829.5,0 883.5,0 883.5,-36\"/>\n<text text-anchor=\"middle\" x=\"856.5\" y=\"-14.3\" font-family=\"Times,serif\" font-size=\"14.00\" fill=\"#000000\">(...)</text>\n</g>\n<!-- 33&#45;&gt;37 -->\n<g id=\"edge23\" class=\"edge\">\n<title>33&#45;&gt;37</title>\n<path fill=\"none\" stroke=\"#000000\" d=\"M821.5377,-71.9769C827.397,-62.931 833.6409,-53.2913 839.2066,-44.6986\"/>\n<polygon fill=\"#000000\" stroke=\"#000000\" points=\"842.2177,-46.4879 844.7166,-36.192 836.3425,-42.6823 842.2177,-46.4879\"/>\n</g>\n<!-- 41 -->\n<g id=\"node26\" class=\"node\">\n<title>41</title>\n<polygon fill=\"#c0c0c0\" stroke=\"#000000\" points=\"959.5,-36 905.5,-36 905.5,0 959.5,0 959.5,-36\"/>\n<text text-anchor=\"middle\" x=\"932.5\" y=\"-14.3\" font-family=\"Times,serif\" font-size=\"14.00\" fill=\"#000000\">(...)</text>\n</g>\n<!-- 40&#45;&gt;41 -->\n<g id=\"edge25\" class=\"edge\">\n<title>40&#45;&gt;41</title>\n<path fill=\"none\" stroke=\"#000000\" d=\"M934.3401,-71.9769C934.0512,-63.5023 933.7445,-54.5065 933.4661,-46.3388\"/>\n<polygon fill=\"#000000\" stroke=\"#000000\" points=\"936.959,-46.0669 933.1202,-36.192 929.963,-46.3054 936.959,-46.0669\"/>\n</g>\n<!-- 44 -->\n<g id=\"node27\" class=\"node\">\n<title>44</title>\n<polygon fill=\"#c0c0c0\" stroke=\"#000000\" points=\"1031.5,-36 977.5,-36 977.5,0 1031.5,0 1031.5,-36\"/>\n<text text-anchor=\"middle\" x=\"1004.5\" y=\"-14.3\" font-family=\"Times,serif\" font-size=\"14.00\" fill=\"#000000\">(...)</text>\n</g>\n<!-- 40&#45;&gt;44 -->\n<g id=\"edge26\" class=\"edge\">\n<title>40&#45;&gt;44</title>\n<path fill=\"none\" stroke=\"#000000\" d=\"M962.1772,-71.9769C969.4193,-62.7406 977.1469,-52.8851 983.9903,-44.1573\"/>\n<polygon fill=\"#000000\" stroke=\"#000000\" points=\"986.8198,-46.221 990.2359,-36.192 981.3112,-41.9017 986.8198,-46.221\"/>\n</g>\n</g>\n</svg>\n"
          },
          "metadata": {
            "tags": []
          },
          "execution_count": 13
        }
      ]
    },
    {
      "cell_type": "code",
      "metadata": {
        "id": "X9DSo9TfuauN",
        "colab_type": "code",
        "colab": {
          "base_uri": "https://localhost:8080/",
          "height": 34
        },
        "outputId": "3f3b33dc-db37-4cb2-cddf-7939d78cd8ff"
      },
      "source": [
        "from sklearn.metrics import r2_score\n",
        "pre = reg.predict(x_test)\n",
        "r2_score(y_test,pre)"
      ],
      "execution_count": 11,
      "outputs": [
        {
          "output_type": "execute_result",
          "data": {
            "text/plain": [
              "0.797942184618459"
            ]
          },
          "metadata": {
            "tags": []
          },
          "execution_count": 11
        }
      ]
    }
  ]
}