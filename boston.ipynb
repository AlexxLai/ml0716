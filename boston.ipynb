{
  "nbformat": 4,
  "nbformat_minor": 0,
  "metadata": {
    "colab": {
      "name": "boston.ipynb",
      "provenance": [],
      "collapsed_sections": [],
      "authorship_tag": "ABX9TyMeeqTKGqPcAlYpjykUzOAG",
      "include_colab_link": true
    },
    "kernelspec": {
      "name": "python3",
      "display_name": "Python 3"
    }
  },
  "cells": [
    {
      "cell_type": "markdown",
      "metadata": {
        "id": "view-in-github",
        "colab_type": "text"
      },
      "source": [
        "<a href=\"https://colab.research.google.com/github/AlexxLai/ml0716/blob/master/boston.ipynb\" target=\"_parent\"><img src=\"https://colab.research.google.com/assets/colab-badge.svg\" alt=\"Open In Colab\"/></a>"
      ]
    },
    {
      "cell_type": "markdown",
      "metadata": {
        "id": "HE2yiJQhrqmK",
        "colab_type": "text"
      },
      "source": [
        ""
      ]
    },
    {
      "cell_type": "code",
      "metadata": {
        "id": "jYFxH4lKcl2g",
        "colab_type": "code",
        "colab": {
          "base_uri": "https://localhost:8080/",
          "height": 402
        },
        "outputId": "8d57d3cb-f4cf-48d3-f4d2-f9baaf45b6fb"
      },
      "source": [
        "import pandas as pd\n",
        "from sklearn.datasets import load_boston\n",
        "boston = load_boston()\n",
        "# boston\n",
        "df = pd.DataFrame(boston[\"data\"],columns = boston[\"feature_names\"])\n",
        "df[\"answer\"] = boston[\"target\"]\n",
        "df.to_csv(\"boston.csv\",encoding = \"utf-8\",index = False) # index是最前項的0,1,2,...的值\n",
        "df"
      ],
      "execution_count": 5,
      "outputs": [
        {
          "output_type": "execute_result",
          "data": {
            "text/html": [
              "<div>\n",
              "<style scoped>\n",
              "    .dataframe tbody tr th:only-of-type {\n",
              "        vertical-align: middle;\n",
              "    }\n",
              "\n",
              "    .dataframe tbody tr th {\n",
              "        vertical-align: top;\n",
              "    }\n",
              "\n",
              "    .dataframe thead th {\n",
              "        text-align: right;\n",
              "    }\n",
              "</style>\n",
              "<table border=\"1\" class=\"dataframe\">\n",
              "  <thead>\n",
              "    <tr style=\"text-align: right;\">\n",
              "      <th></th>\n",
              "      <th>CRIM</th>\n",
              "      <th>ZN</th>\n",
              "      <th>INDUS</th>\n",
              "      <th>CHAS</th>\n",
              "      <th>NOX</th>\n",
              "      <th>RM</th>\n",
              "      <th>AGE</th>\n",
              "      <th>DIS</th>\n",
              "      <th>RAD</th>\n",
              "      <th>TAX</th>\n",
              "      <th>PTRATIO</th>\n",
              "      <th>B</th>\n",
              "      <th>LSTAT</th>\n",
              "      <th>answer</th>\n",
              "    </tr>\n",
              "  </thead>\n",
              "  <tbody>\n",
              "    <tr>\n",
              "      <th>0</th>\n",
              "      <td>0.00632</td>\n",
              "      <td>18.0</td>\n",
              "      <td>2.31</td>\n",
              "      <td>0.0</td>\n",
              "      <td>0.538</td>\n",
              "      <td>6.575</td>\n",
              "      <td>65.2</td>\n",
              "      <td>4.0900</td>\n",
              "      <td>1.0</td>\n",
              "      <td>296.0</td>\n",
              "      <td>15.3</td>\n",
              "      <td>396.90</td>\n",
              "      <td>4.98</td>\n",
              "      <td>24.0</td>\n",
              "    </tr>\n",
              "    <tr>\n",
              "      <th>1</th>\n",
              "      <td>0.02731</td>\n",
              "      <td>0.0</td>\n",
              "      <td>7.07</td>\n",
              "      <td>0.0</td>\n",
              "      <td>0.469</td>\n",
              "      <td>6.421</td>\n",
              "      <td>78.9</td>\n",
              "      <td>4.9671</td>\n",
              "      <td>2.0</td>\n",
              "      <td>242.0</td>\n",
              "      <td>17.8</td>\n",
              "      <td>396.90</td>\n",
              "      <td>9.14</td>\n",
              "      <td>21.6</td>\n",
              "    </tr>\n",
              "    <tr>\n",
              "      <th>2</th>\n",
              "      <td>0.02729</td>\n",
              "      <td>0.0</td>\n",
              "      <td>7.07</td>\n",
              "      <td>0.0</td>\n",
              "      <td>0.469</td>\n",
              "      <td>7.185</td>\n",
              "      <td>61.1</td>\n",
              "      <td>4.9671</td>\n",
              "      <td>2.0</td>\n",
              "      <td>242.0</td>\n",
              "      <td>17.8</td>\n",
              "      <td>392.83</td>\n",
              "      <td>4.03</td>\n",
              "      <td>34.7</td>\n",
              "    </tr>\n",
              "    <tr>\n",
              "      <th>3</th>\n",
              "      <td>0.03237</td>\n",
              "      <td>0.0</td>\n",
              "      <td>2.18</td>\n",
              "      <td>0.0</td>\n",
              "      <td>0.458</td>\n",
              "      <td>6.998</td>\n",
              "      <td>45.8</td>\n",
              "      <td>6.0622</td>\n",
              "      <td>3.0</td>\n",
              "      <td>222.0</td>\n",
              "      <td>18.7</td>\n",
              "      <td>394.63</td>\n",
              "      <td>2.94</td>\n",
              "      <td>33.4</td>\n",
              "    </tr>\n",
              "    <tr>\n",
              "      <th>4</th>\n",
              "      <td>0.06905</td>\n",
              "      <td>0.0</td>\n",
              "      <td>2.18</td>\n",
              "      <td>0.0</td>\n",
              "      <td>0.458</td>\n",
              "      <td>7.147</td>\n",
              "      <td>54.2</td>\n",
              "      <td>6.0622</td>\n",
              "      <td>3.0</td>\n",
              "      <td>222.0</td>\n",
              "      <td>18.7</td>\n",
              "      <td>396.90</td>\n",
              "      <td>5.33</td>\n",
              "      <td>36.2</td>\n",
              "    </tr>\n",
              "    <tr>\n",
              "      <th>...</th>\n",
              "      <td>...</td>\n",
              "      <td>...</td>\n",
              "      <td>...</td>\n",
              "      <td>...</td>\n",
              "      <td>...</td>\n",
              "      <td>...</td>\n",
              "      <td>...</td>\n",
              "      <td>...</td>\n",
              "      <td>...</td>\n",
              "      <td>...</td>\n",
              "      <td>...</td>\n",
              "      <td>...</td>\n",
              "      <td>...</td>\n",
              "      <td>...</td>\n",
              "    </tr>\n",
              "    <tr>\n",
              "      <th>501</th>\n",
              "      <td>0.06263</td>\n",
              "      <td>0.0</td>\n",
              "      <td>11.93</td>\n",
              "      <td>0.0</td>\n",
              "      <td>0.573</td>\n",
              "      <td>6.593</td>\n",
              "      <td>69.1</td>\n",
              "      <td>2.4786</td>\n",
              "      <td>1.0</td>\n",
              "      <td>273.0</td>\n",
              "      <td>21.0</td>\n",
              "      <td>391.99</td>\n",
              "      <td>9.67</td>\n",
              "      <td>22.4</td>\n",
              "    </tr>\n",
              "    <tr>\n",
              "      <th>502</th>\n",
              "      <td>0.04527</td>\n",
              "      <td>0.0</td>\n",
              "      <td>11.93</td>\n",
              "      <td>0.0</td>\n",
              "      <td>0.573</td>\n",
              "      <td>6.120</td>\n",
              "      <td>76.7</td>\n",
              "      <td>2.2875</td>\n",
              "      <td>1.0</td>\n",
              "      <td>273.0</td>\n",
              "      <td>21.0</td>\n",
              "      <td>396.90</td>\n",
              "      <td>9.08</td>\n",
              "      <td>20.6</td>\n",
              "    </tr>\n",
              "    <tr>\n",
              "      <th>503</th>\n",
              "      <td>0.06076</td>\n",
              "      <td>0.0</td>\n",
              "      <td>11.93</td>\n",
              "      <td>0.0</td>\n",
              "      <td>0.573</td>\n",
              "      <td>6.976</td>\n",
              "      <td>91.0</td>\n",
              "      <td>2.1675</td>\n",
              "      <td>1.0</td>\n",
              "      <td>273.0</td>\n",
              "      <td>21.0</td>\n",
              "      <td>396.90</td>\n",
              "      <td>5.64</td>\n",
              "      <td>23.9</td>\n",
              "    </tr>\n",
              "    <tr>\n",
              "      <th>504</th>\n",
              "      <td>0.10959</td>\n",
              "      <td>0.0</td>\n",
              "      <td>11.93</td>\n",
              "      <td>0.0</td>\n",
              "      <td>0.573</td>\n",
              "      <td>6.794</td>\n",
              "      <td>89.3</td>\n",
              "      <td>2.3889</td>\n",
              "      <td>1.0</td>\n",
              "      <td>273.0</td>\n",
              "      <td>21.0</td>\n",
              "      <td>393.45</td>\n",
              "      <td>6.48</td>\n",
              "      <td>22.0</td>\n",
              "    </tr>\n",
              "    <tr>\n",
              "      <th>505</th>\n",
              "      <td>0.04741</td>\n",
              "      <td>0.0</td>\n",
              "      <td>11.93</td>\n",
              "      <td>0.0</td>\n",
              "      <td>0.573</td>\n",
              "      <td>6.030</td>\n",
              "      <td>80.8</td>\n",
              "      <td>2.5050</td>\n",
              "      <td>1.0</td>\n",
              "      <td>273.0</td>\n",
              "      <td>21.0</td>\n",
              "      <td>396.90</td>\n",
              "      <td>7.88</td>\n",
              "      <td>11.9</td>\n",
              "    </tr>\n",
              "  </tbody>\n",
              "</table>\n",
              "<p>506 rows × 14 columns</p>\n",
              "</div>"
            ],
            "text/plain": [
              "        CRIM    ZN  INDUS  CHAS    NOX  ...    TAX  PTRATIO       B  LSTAT  answer\n",
              "0    0.00632  18.0   2.31   0.0  0.538  ...  296.0     15.3  396.90   4.98    24.0\n",
              "1    0.02731   0.0   7.07   0.0  0.469  ...  242.0     17.8  396.90   9.14    21.6\n",
              "2    0.02729   0.0   7.07   0.0  0.469  ...  242.0     17.8  392.83   4.03    34.7\n",
              "3    0.03237   0.0   2.18   0.0  0.458  ...  222.0     18.7  394.63   2.94    33.4\n",
              "4    0.06905   0.0   2.18   0.0  0.458  ...  222.0     18.7  396.90   5.33    36.2\n",
              "..       ...   ...    ...   ...    ...  ...    ...      ...     ...    ...     ...\n",
              "501  0.06263   0.0  11.93   0.0  0.573  ...  273.0     21.0  391.99   9.67    22.4\n",
              "502  0.04527   0.0  11.93   0.0  0.573  ...  273.0     21.0  396.90   9.08    20.6\n",
              "503  0.06076   0.0  11.93   0.0  0.573  ...  273.0     21.0  396.90   5.64    23.9\n",
              "504  0.10959   0.0  11.93   0.0  0.573  ...  273.0     21.0  393.45   6.48    22.0\n",
              "505  0.04741   0.0  11.93   0.0  0.573  ...  273.0     21.0  396.90   7.88    11.9\n",
              "\n",
              "[506 rows x 14 columns]"
            ]
          },
          "metadata": {
            "tags": []
          },
          "execution_count": 5
        }
      ]
    },
    {
      "cell_type": "code",
      "metadata": {
        "id": "fuet99Q6PxZ_",
        "colab_type": "code",
        "colab": {}
      },
      "source": [
        "from sklearn.model_selection import train_test_split # 設計測試資料集，引入此套件\n",
        "# [90% data , 10% data , 90% target , 10% target]\n",
        "x_train,x_test,y_train,y_test = train_test_split(boston[\"data\"],\n",
        "                                                boston[\"target\"],\n",
        "                                                test_size = 0.1 # 依照位置切割比例\n",
        "                                                              )\n"
      ],
      "execution_count": 6,
      "outputs": []
    },
    {
      "cell_type": "code",
      "metadata": {
        "id": "khIf_gRWSjKy",
        "colab_type": "code",
        "colab": {
          "base_uri": "https://localhost:8080/",
          "height": 118
        },
        "outputId": "d41d6b8d-2d7c-48ed-e095-27976b49dbad"
      },
      "source": [
        "from sklearn.tree import DecisionTreeRegressor # 引入決策樹套件\n",
        "# clf = DecisionTreeClassifier() # 交由程式設定節點值\n",
        "reg = DecisionTreeRegressor(max_depth = 5) # 設定節點最大值\n",
        "reg.fit(x_train,y_train)"
      ],
      "execution_count": 7,
      "outputs": [
        {
          "output_type": "execute_result",
          "data": {
            "text/plain": [
              "DecisionTreeRegressor(ccp_alpha=0.0, criterion='mse', max_depth=5,\n",
              "                      max_features=None, max_leaf_nodes=None,\n",
              "                      min_impurity_decrease=0.0, min_impurity_split=None,\n",
              "                      min_samples_leaf=1, min_samples_split=2,\n",
              "                      min_weight_fraction_leaf=0.0, presort='deprecated',\n",
              "                      random_state=None, splitter='best')"
            ]
          },
          "metadata": {
            "tags": []
          },
          "execution_count": 7
        }
      ]
    },
    {
      "cell_type": "code",
      "metadata": {
        "id": "ztqI9IyPTncA",
        "colab_type": "code",
        "colab": {
          "base_uri": "https://localhost:8080/",
          "height": 816
        },
        "outputId": "ff412b0c-e5e1-401b-f274-0963967fc33d"
      },
      "source": [
        "import graphviz\n",
        "from sklearn.tree import export_graphviz\n",
        "g = export_graphviz(reg,\n",
        "                    feature_names = boston[\"feature_names\"],\n",
        "                    filled = True # 顏色\n",
        "                    )\n",
        "graphviz.Source(g)"
      ],
      "execution_count": 8,
      "outputs": [
        {
          "output_type": "execute_result",
          "data": {
            "text/plain": [
              "<graphviz.files.Source at 0x7fbbd2553e48>"
            ],
            "image/svg+xml": "<?xml version=\"1.0\" encoding=\"UTF-8\" standalone=\"no\"?>\n<!DOCTYPE svg PUBLIC \"-//W3C//DTD SVG 1.1//EN\"\n \"http://www.w3.org/Graphics/SVG/1.1/DTD/svg11.dtd\">\n<!-- Generated by graphviz version 2.40.1 (20161225.0304)\n -->\n<!-- Title: Tree Pages: 1 -->\n<svg width=\"2339pt\" height=\"581pt\"\n viewBox=\"0.00 0.00 2338.50 581.00\" xmlns=\"http://www.w3.org/2000/svg\" xmlns:xlink=\"http://www.w3.org/1999/xlink\">\n<g id=\"graph0\" class=\"graph\" transform=\"scale(1 1) rotate(0) translate(4 577)\">\n<title>Tree</title>\n<polygon fill=\"#ffffff\" stroke=\"transparent\" points=\"-4,4 -4,-577 2334.5,-577 2334.5,4 -4,4\"/>\n<!-- 0 -->\n<g id=\"node1\" class=\"node\">\n<title>0</title>\n<polygon fill=\"#f7d7c0\" stroke=\"#000000\" points=\"1017,-573 899,-573 899,-505 1017,-505 1017,-573\"/>\n<text text-anchor=\"middle\" x=\"958\" y=\"-557.8\" font-family=\"Times,serif\" font-size=\"14.00\" fill=\"#000000\">LSTAT &lt;= 9.725</text>\n<text text-anchor=\"middle\" x=\"958\" y=\"-542.8\" font-family=\"Times,serif\" font-size=\"14.00\" fill=\"#000000\">mse = 85.555</text>\n<text text-anchor=\"middle\" x=\"958\" y=\"-527.8\" font-family=\"Times,serif\" font-size=\"14.00\" fill=\"#000000\">samples = 455</text>\n<text text-anchor=\"middle\" x=\"958\" y=\"-512.8\" font-family=\"Times,serif\" font-size=\"14.00\" fill=\"#000000\">value = 22.637</text>\n</g>\n<!-- 1 -->\n<g id=\"node2\" class=\"node\">\n<title>1</title>\n<polygon fill=\"#f2c09c\" stroke=\"#000000\" points=\"834,-469 730,-469 730,-401 834,-401 834,-469\"/>\n<text text-anchor=\"middle\" x=\"782\" y=\"-453.8\" font-family=\"Times,serif\" font-size=\"14.00\" fill=\"#000000\">RM &lt;= 7.437</text>\n<text text-anchor=\"middle\" x=\"782\" y=\"-438.8\" font-family=\"Times,serif\" font-size=\"14.00\" fill=\"#000000\">mse = 77.617</text>\n<text text-anchor=\"middle\" x=\"782\" y=\"-423.8\" font-family=\"Times,serif\" font-size=\"14.00\" fill=\"#000000\">samples = 191</text>\n<text text-anchor=\"middle\" x=\"782\" y=\"-408.8\" font-family=\"Times,serif\" font-size=\"14.00\" fill=\"#000000\">value = 29.992</text>\n</g>\n<!-- 0&#45;&gt;1 -->\n<g id=\"edge1\" class=\"edge\">\n<title>0&#45;&gt;1</title>\n<path fill=\"none\" stroke=\"#000000\" d=\"M900.371,-504.9465C881.9368,-494.0536 861.4759,-481.963 842.8217,-470.9401\"/>\n<polygon fill=\"#000000\" stroke=\"#000000\" points=\"844.4999,-467.8664 834.11,-465.7923 840.9387,-473.8929 844.4999,-467.8664\"/>\n<text text-anchor=\"middle\" x=\"840.336\" y=\"-486.3046\" font-family=\"Times,serif\" font-size=\"14.00\" fill=\"#000000\">True</text>\n</g>\n<!-- 20 -->\n<g id=\"node21\" class=\"node\">\n<title>20</title>\n<polygon fill=\"#fae8da\" stroke=\"#000000\" points=\"1293,-469 1183,-469 1183,-401 1293,-401 1293,-469\"/>\n<text text-anchor=\"middle\" x=\"1238\" y=\"-453.8\" font-family=\"Times,serif\" font-size=\"14.00\" fill=\"#000000\">LSTAT &lt;= 15.0</text>\n<text text-anchor=\"middle\" x=\"1238\" y=\"-438.8\" font-family=\"Times,serif\" font-size=\"14.00\" fill=\"#000000\">mse = 23.85</text>\n<text text-anchor=\"middle\" x=\"1238\" y=\"-423.8\" font-family=\"Times,serif\" font-size=\"14.00\" fill=\"#000000\">samples = 264</text>\n<text text-anchor=\"middle\" x=\"1238\" y=\"-408.8\" font-family=\"Times,serif\" font-size=\"14.00\" fill=\"#000000\">value = 17.316</text>\n</g>\n<!-- 0&#45;&gt;20 -->\n<g id=\"edge20\" class=\"edge\">\n<title>0&#45;&gt;20</title>\n<path fill=\"none\" stroke=\"#000000\" d=\"M1017.0387,-517.0714C1062.8209,-500.0665 1126.2024,-476.5248 1173.3471,-459.0139\"/>\n<polygon fill=\"#000000\" stroke=\"#000000\" points=\"1174.6932,-462.2477 1182.8488,-455.4847 1172.2559,-455.6857 1174.6932,-462.2477\"/>\n<text text-anchor=\"middle\" x=\"1172.4324\" y=\"-474.5114\" font-family=\"Times,serif\" font-size=\"14.00\" fill=\"#000000\">False</text>\n</g>\n<!-- 2 -->\n<g id=\"node3\" class=\"node\">\n<title>2</title>\n<polygon fill=\"#f4c7a8\" stroke=\"#000000\" points=\"409,-365 305,-365 305,-297 409,-297 409,-365\"/>\n<text text-anchor=\"middle\" x=\"357\" y=\"-349.8\" font-family=\"Times,serif\" font-size=\"14.00\" fill=\"#000000\">DIS &lt;= 1.485</text>\n<text text-anchor=\"middle\" x=\"357\" y=\"-334.8\" font-family=\"Times,serif\" font-size=\"14.00\" fill=\"#000000\">mse = 42.052</text>\n<text text-anchor=\"middle\" x=\"357\" y=\"-319.8\" font-family=\"Times,serif\" font-size=\"14.00\" fill=\"#000000\">samples = 165</text>\n<text text-anchor=\"middle\" x=\"357\" y=\"-304.8\" font-family=\"Times,serif\" font-size=\"14.00\" fill=\"#000000\">value = 27.608</text>\n</g>\n<!-- 1&#45;&gt;2 -->\n<g id=\"edge2\" class=\"edge\">\n<title>1&#45;&gt;2</title>\n<path fill=\"none\" stroke=\"#000000\" d=\"M729.8867,-422.2476C651.3975,-403.0408 503.1145,-366.7551 419.1218,-346.2016\"/>\n<polygon fill=\"#000000\" stroke=\"#000000\" points=\"419.7518,-342.7525 409.2065,-343.7752 418.0879,-349.5519 419.7518,-342.7525\"/>\n</g>\n<!-- 11 -->\n<g id=\"node12\" class=\"node\">\n<title>11</title>\n<polygon fill=\"#e89051\" stroke=\"#000000\" points=\"849,-365 715,-365 715,-297 849,-297 849,-365\"/>\n<text text-anchor=\"middle\" x=\"782\" y=\"-349.8\" font-family=\"Times,serif\" font-size=\"14.00\" fill=\"#000000\">PTRATIO &lt;= 19.65</text>\n<text text-anchor=\"middle\" x=\"782\" y=\"-334.8\" font-family=\"Times,serif\" font-size=\"14.00\" fill=\"#000000\">mse = 38.551</text>\n<text text-anchor=\"middle\" x=\"782\" y=\"-319.8\" font-family=\"Times,serif\" font-size=\"14.00\" fill=\"#000000\">samples = 26</text>\n<text text-anchor=\"middle\" x=\"782\" y=\"-304.8\" font-family=\"Times,serif\" font-size=\"14.00\" fill=\"#000000\">value = 45.115</text>\n</g>\n<!-- 1&#45;&gt;11 -->\n<g id=\"edge11\" class=\"edge\">\n<title>1&#45;&gt;11</title>\n<path fill=\"none\" stroke=\"#000000\" d=\"M782,-400.9465C782,-392.776 782,-383.9318 782,-375.3697\"/>\n<polygon fill=\"#000000\" stroke=\"#000000\" points=\"785.5001,-375.13 782,-365.13 778.5001,-375.13 785.5001,-375.13\"/>\n</g>\n<!-- 3 -->\n<g id=\"node4\" class=\"node\">\n<title>3</title>\n<polygon fill=\"#e58139\" stroke=\"#000000\" points=\"286.5,-253.5 197.5,-253.5 197.5,-200.5 286.5,-200.5 286.5,-253.5\"/>\n<text text-anchor=\"middle\" x=\"242\" y=\"-238.3\" font-family=\"Times,serif\" font-size=\"14.00\" fill=\"#000000\">mse = 0.0</text>\n<text text-anchor=\"middle\" x=\"242\" y=\"-223.3\" font-family=\"Times,serif\" font-size=\"14.00\" fill=\"#000000\">samples = 5</text>\n<text text-anchor=\"middle\" x=\"242\" y=\"-208.3\" font-family=\"Times,serif\" font-size=\"14.00\" fill=\"#000000\">value = 50.0</text>\n</g>\n<!-- 2&#45;&gt;3 -->\n<g id=\"edge3\" class=\"edge\">\n<title>2&#45;&gt;3</title>\n<path fill=\"none\" stroke=\"#000000\" d=\"M319.3447,-296.9465C306.3122,-285.1606 291.7294,-271.9726 278.7689,-260.2519\"/>\n<polygon fill=\"#000000\" stroke=\"#000000\" points=\"281.114,-257.6537 271.3495,-253.5422 276.4188,-262.8456 281.114,-257.6537\"/>\n</g>\n<!-- 4 -->\n<g id=\"node5\" class=\"node\">\n<title>4</title>\n<polygon fill=\"#f4caab\" stroke=\"#000000\" points=\"409,-261 305,-261 305,-193 409,-193 409,-261\"/>\n<text text-anchor=\"middle\" x=\"357\" y=\"-245.8\" font-family=\"Times,serif\" font-size=\"14.00\" fill=\"#000000\">RM &lt;= 6.797</text>\n<text text-anchor=\"middle\" x=\"357\" y=\"-230.8\" font-family=\"Times,serif\" font-size=\"14.00\" fill=\"#000000\">mse = 27.208</text>\n<text text-anchor=\"middle\" x=\"357\" y=\"-215.8\" font-family=\"Times,serif\" font-size=\"14.00\" fill=\"#000000\">samples = 160</text>\n<text text-anchor=\"middle\" x=\"357\" y=\"-200.8\" font-family=\"Times,serif\" font-size=\"14.00\" fill=\"#000000\">value = 26.909</text>\n</g>\n<!-- 2&#45;&gt;4 -->\n<g id=\"edge4\" class=\"edge\">\n<title>2&#45;&gt;4</title>\n<path fill=\"none\" stroke=\"#000000\" d=\"M357,-296.9465C357,-288.776 357,-279.9318 357,-271.3697\"/>\n<polygon fill=\"#000000\" stroke=\"#000000\" points=\"360.5001,-271.13 357,-261.13 353.5001,-271.13 360.5001,-271.13\"/>\n</g>\n<!-- 5 -->\n<g id=\"node6\" class=\"node\">\n<title>5</title>\n<polygon fill=\"#f6d2b8\" stroke=\"#000000\" points=\"226,-157 122,-157 122,-89 226,-89 226,-157\"/>\n<text text-anchor=\"middle\" x=\"174\" y=\"-141.8\" font-family=\"Times,serif\" font-size=\"14.00\" fill=\"#000000\">RM &lt;= 6.542</text>\n<text text-anchor=\"middle\" x=\"174\" y=\"-126.8\" font-family=\"Times,serif\" font-size=\"14.00\" fill=\"#000000\">mse = 12.275</text>\n<text text-anchor=\"middle\" x=\"174\" y=\"-111.8\" font-family=\"Times,serif\" font-size=\"14.00\" fill=\"#000000\">samples = 111</text>\n<text text-anchor=\"middle\" x=\"174\" y=\"-96.8\" font-family=\"Times,serif\" font-size=\"14.00\" fill=\"#000000\">value = 24.367</text>\n</g>\n<!-- 4&#45;&gt;5 -->\n<g id=\"edge5\" class=\"edge\">\n<title>4&#45;&gt;5</title>\n<path fill=\"none\" stroke=\"#000000\" d=\"M304.5595,-197.1978C282.8345,-184.8513 257.4929,-170.4495 234.9471,-157.6366\"/>\n<polygon fill=\"#000000\" stroke=\"#000000\" points=\"236.555,-154.5247 226.1315,-152.6266 233.0963,-160.6105 236.555,-154.5247\"/>\n</g>\n<!-- 8 -->\n<g id=\"node9\" class=\"node\">\n<title>8</title>\n<polygon fill=\"#f0b78f\" stroke=\"#000000\" points=\"409,-157 305,-157 305,-89 409,-89 409,-157\"/>\n<text text-anchor=\"middle\" x=\"357\" y=\"-141.8\" font-family=\"Times,serif\" font-size=\"14.00\" fill=\"#000000\">DIS &lt;= 2.845</text>\n<text text-anchor=\"middle\" x=\"357\" y=\"-126.8\" font-family=\"Times,serif\" font-size=\"14.00\" fill=\"#000000\">mse = 13.236</text>\n<text text-anchor=\"middle\" x=\"357\" y=\"-111.8\" font-family=\"Times,serif\" font-size=\"14.00\" fill=\"#000000\">samples = 49</text>\n<text text-anchor=\"middle\" x=\"357\" y=\"-96.8\" font-family=\"Times,serif\" font-size=\"14.00\" fill=\"#000000\">value = 32.667</text>\n</g>\n<!-- 4&#45;&gt;8 -->\n<g id=\"edge8\" class=\"edge\">\n<title>4&#45;&gt;8</title>\n<path fill=\"none\" stroke=\"#000000\" d=\"M357,-192.9465C357,-184.776 357,-175.9318 357,-167.3697\"/>\n<polygon fill=\"#000000\" stroke=\"#000000\" points=\"360.5001,-167.13 357,-157.13 353.5001,-167.13 360.5001,-167.13\"/>\n</g>\n<!-- 6 -->\n<g id=\"node7\" class=\"node\">\n<title>6</title>\n<polygon fill=\"#f6d6be\" stroke=\"#000000\" points=\"104,-53 0,-53 0,0 104,0 104,-53\"/>\n<text text-anchor=\"middle\" x=\"52\" y=\"-37.8\" font-family=\"Times,serif\" font-size=\"14.00\" fill=\"#000000\">mse = 8.766</text>\n<text text-anchor=\"middle\" x=\"52\" y=\"-22.8\" font-family=\"Times,serif\" font-size=\"14.00\" fill=\"#000000\">samples = 75</text>\n<text text-anchor=\"middle\" x=\"52\" y=\"-7.8\" font-family=\"Times,serif\" font-size=\"14.00\" fill=\"#000000\">value = 23.091</text>\n</g>\n<!-- 5&#45;&gt;6 -->\n<g id=\"edge6\" class=\"edge\">\n<title>5&#45;&gt;6</title>\n<path fill=\"none\" stroke=\"#000000\" d=\"M130.9874,-88.9777C118.9476,-79.4545 105.8812,-69.1191 93.9065,-59.6473\"/>\n<polygon fill=\"#000000\" stroke=\"#000000\" points=\"95.8311,-56.7072 85.8167,-53.2485 91.4885,-62.1973 95.8311,-56.7072\"/>\n</g>\n<!-- 7 -->\n<g id=\"node8\" class=\"node\">\n<title>7</title>\n<polygon fill=\"#f4c9aa\" stroke=\"#000000\" points=\"226,-53 122,-53 122,0 226,0 226,-53\"/>\n<text text-anchor=\"middle\" x=\"174\" y=\"-37.8\" font-family=\"Times,serif\" font-size=\"14.00\" fill=\"#000000\">mse = 9.126</text>\n<text text-anchor=\"middle\" x=\"174\" y=\"-22.8\" font-family=\"Times,serif\" font-size=\"14.00\" fill=\"#000000\">samples = 36</text>\n<text text-anchor=\"middle\" x=\"174\" y=\"-7.8\" font-family=\"Times,serif\" font-size=\"14.00\" fill=\"#000000\">value = 27.025</text>\n</g>\n<!-- 5&#45;&gt;7 -->\n<g id=\"edge7\" class=\"edge\">\n<title>5&#45;&gt;7</title>\n<path fill=\"none\" stroke=\"#000000\" d=\"M174,-88.9777C174,-80.7364 174,-71.887 174,-63.5153\"/>\n<polygon fill=\"#000000\" stroke=\"#000000\" points=\"177.5001,-63.2484 174,-53.2485 170.5001,-63.2485 177.5001,-63.2484\"/>\n</g>\n<!-- 9 -->\n<g id=\"node10\" class=\"node\">\n<title>9</title>\n<polygon fill=\"#eda979\" stroke=\"#000000\" points=\"348,-53 244,-53 244,0 348,0 348,-53\"/>\n<text text-anchor=\"middle\" x=\"296\" y=\"-37.8\" font-family=\"Times,serif\" font-size=\"14.00\" fill=\"#000000\">mse = 5.125</text>\n<text text-anchor=\"middle\" x=\"296\" y=\"-22.8\" font-family=\"Times,serif\" font-size=\"14.00\" fill=\"#000000\">samples = 6</text>\n<text text-anchor=\"middle\" x=\"296\" y=\"-7.8\" font-family=\"Times,serif\" font-size=\"14.00\" fill=\"#000000\">value = 37.117</text>\n</g>\n<!-- 8&#45;&gt;9 -->\n<g id=\"edge9\" class=\"edge\">\n<title>8&#45;&gt;9</title>\n<path fill=\"none\" stroke=\"#000000\" d=\"M335.4937,-88.9777C329.9369,-80.187 323.9427,-70.7044 318.3441,-61.8477\"/>\n<polygon fill=\"#000000\" stroke=\"#000000\" points=\"321.2101,-59.8312 312.9084,-53.2485 315.2931,-63.5714 321.2101,-59.8312\"/>\n</g>\n<!-- 10 -->\n<g id=\"node11\" class=\"node\">\n<title>10</title>\n<polygon fill=\"#f1b992\" stroke=\"#000000\" points=\"470,-53 366,-53 366,0 470,0 470,-53\"/>\n<text text-anchor=\"middle\" x=\"418\" y=\"-37.8\" font-family=\"Times,serif\" font-size=\"14.00\" fill=\"#000000\">mse = 11.22</text>\n<text text-anchor=\"middle\" x=\"418\" y=\"-22.8\" font-family=\"Times,serif\" font-size=\"14.00\" fill=\"#000000\">samples = 43</text>\n<text text-anchor=\"middle\" x=\"418\" y=\"-7.8\" font-family=\"Times,serif\" font-size=\"14.00\" fill=\"#000000\">value = 32.047</text>\n</g>\n<!-- 8&#45;&gt;10 -->\n<g id=\"edge10\" class=\"edge\">\n<title>8&#45;&gt;10</title>\n<path fill=\"none\" stroke=\"#000000\" d=\"M378.5063,-88.9777C384.0631,-80.187 390.0573,-70.7044 395.6559,-61.8477\"/>\n<polygon fill=\"#000000\" stroke=\"#000000\" points=\"398.7069,-63.5714 401.0916,-53.2485 392.7899,-59.8312 398.7069,-63.5714\"/>\n</g>\n<!-- 12 -->\n<g id=\"node13\" class=\"node\">\n<title>12</title>\n<polygon fill=\"#e88d4d\" stroke=\"#000000\" points=\"782.5,-261 655.5,-261 655.5,-193 782.5,-193 782.5,-261\"/>\n<text text-anchor=\"middle\" x=\"719\" y=\"-245.8\" font-family=\"Times,serif\" font-size=\"14.00\" fill=\"#000000\">PTRATIO &lt;= 17.9</text>\n<text text-anchor=\"middle\" x=\"719\" y=\"-230.8\" font-family=\"Times,serif\" font-size=\"14.00\" fill=\"#000000\">mse = 17.673</text>\n<text text-anchor=\"middle\" x=\"719\" y=\"-215.8\" font-family=\"Times,serif\" font-size=\"14.00\" fill=\"#000000\">samples = 25</text>\n<text text-anchor=\"middle\" x=\"719\" y=\"-200.8\" font-family=\"Times,serif\" font-size=\"14.00\" fill=\"#000000\">value = 46.044</text>\n</g>\n<!-- 11&#45;&gt;12 -->\n<g id=\"edge12\" class=\"edge\">\n<title>11&#45;&gt;12</title>\n<path fill=\"none\" stroke=\"#000000\" d=\"M761.3714,-296.9465C756.1501,-288.3271 750.4745,-278.9579 745.0245,-269.9611\"/>\n<polygon fill=\"#000000\" stroke=\"#000000\" points=\"747.8497,-267.8697 739.6749,-261.13 741.8626,-271.4965 747.8497,-267.8697\"/>\n</g>\n<!-- 19 -->\n<g id=\"node20\" class=\"node\">\n<title>19</title>\n<polygon fill=\"#f7d9c4\" stroke=\"#000000\" points=\"889.5,-253.5 800.5,-253.5 800.5,-200.5 889.5,-200.5 889.5,-253.5\"/>\n<text text-anchor=\"middle\" x=\"845\" y=\"-238.3\" font-family=\"Times,serif\" font-size=\"14.00\" fill=\"#000000\">mse = &#45;0.0</text>\n<text text-anchor=\"middle\" x=\"845\" y=\"-223.3\" font-family=\"Times,serif\" font-size=\"14.00\" fill=\"#000000\">samples = 1</text>\n<text text-anchor=\"middle\" x=\"845\" y=\"-208.3\" font-family=\"Times,serif\" font-size=\"14.00\" fill=\"#000000\">value = 21.9</text>\n</g>\n<!-- 11&#45;&gt;19 -->\n<g id=\"edge19\" class=\"edge\">\n<title>11&#45;&gt;19</title>\n<path fill=\"none\" stroke=\"#000000\" d=\"M802.6286,-296.9465C809.3678,-285.8215 816.8637,-273.4473 823.6545,-262.237\"/>\n<polygon fill=\"#000000\" stroke=\"#000000\" points=\"826.7339,-263.9087 828.9216,-253.5422 820.7467,-260.2818 826.7339,-263.9087\"/>\n</g>\n<!-- 13 -->\n<g id=\"node14\" class=\"node\">\n<title>13</title>\n<polygon fill=\"#e78a47\" stroke=\"#000000\" points=\"710,-157 606,-157 606,-89 710,-89 710,-157\"/>\n<text text-anchor=\"middle\" x=\"658\" y=\"-141.8\" font-family=\"Times,serif\" font-size=\"14.00\" fill=\"#000000\">RM &lt;= 7.783</text>\n<text text-anchor=\"middle\" x=\"658\" y=\"-126.8\" font-family=\"Times,serif\" font-size=\"14.00\" fill=\"#000000\">mse = 10.859</text>\n<text text-anchor=\"middle\" x=\"658\" y=\"-111.8\" font-family=\"Times,serif\" font-size=\"14.00\" fill=\"#000000\">samples = 21</text>\n<text text-anchor=\"middle\" x=\"658\" y=\"-96.8\" font-family=\"Times,serif\" font-size=\"14.00\" fill=\"#000000\">value = 47.171</text>\n</g>\n<!-- 12&#45;&gt;13 -->\n<g id=\"edge13\" class=\"edge\">\n<title>12&#45;&gt;13</title>\n<path fill=\"none\" stroke=\"#000000\" d=\"M699.0263,-192.9465C693.9707,-184.3271 688.4753,-174.9579 683.1983,-165.9611\"/>\n<polygon fill=\"#000000\" stroke=\"#000000\" points=\"686.0969,-163.985 678.0186,-157.13 680.0589,-167.5265 686.0969,-163.985\"/>\n</g>\n<!-- 16 -->\n<g id=\"node17\" class=\"node\">\n<title>16</title>\n<polygon fill=\"#eba06a\" stroke=\"#000000\" points=\"832,-157 728,-157 728,-89 832,-89 832,-157\"/>\n<text text-anchor=\"middle\" x=\"780\" y=\"-141.8\" font-family=\"Times,serif\" font-size=\"14.00\" fill=\"#000000\">AGE &lt;= 44.35</text>\n<text text-anchor=\"middle\" x=\"780\" y=\"-126.8\" font-family=\"Times,serif\" font-size=\"14.00\" fill=\"#000000\">mse = 11.737</text>\n<text text-anchor=\"middle\" x=\"780\" y=\"-111.8\" font-family=\"Times,serif\" font-size=\"14.00\" fill=\"#000000\">samples = 4</text>\n<text text-anchor=\"middle\" x=\"780\" y=\"-96.8\" font-family=\"Times,serif\" font-size=\"14.00\" fill=\"#000000\">value = 40.125</text>\n</g>\n<!-- 12&#45;&gt;16 -->\n<g id=\"edge16\" class=\"edge\">\n<title>12&#45;&gt;16</title>\n<path fill=\"none\" stroke=\"#000000\" d=\"M738.9737,-192.9465C744.0293,-184.3271 749.5247,-174.9579 754.8017,-165.9611\"/>\n<polygon fill=\"#000000\" stroke=\"#000000\" points=\"757.9411,-167.5265 759.9814,-157.13 751.9031,-163.985 757.9411,-167.5265\"/>\n</g>\n<!-- 14 -->\n<g id=\"node15\" class=\"node\">\n<title>14</title>\n<polygon fill=\"#e99254\" stroke=\"#000000\" points=\"592,-53 488,-53 488,0 592,0 592,-53\"/>\n<text text-anchor=\"middle\" x=\"540\" y=\"-37.8\" font-family=\"Times,serif\" font-size=\"14.00\" fill=\"#000000\">mse = 9.494</text>\n<text text-anchor=\"middle\" x=\"540\" y=\"-22.8\" font-family=\"Times,serif\" font-size=\"14.00\" fill=\"#000000\">samples = 7</text>\n<text text-anchor=\"middle\" x=\"540\" y=\"-7.8\" font-family=\"Times,serif\" font-size=\"14.00\" fill=\"#000000\">value = 44.557</text>\n</g>\n<!-- 13&#45;&gt;14 -->\n<g id=\"edge14\" class=\"edge\">\n<title>13&#45;&gt;14</title>\n<path fill=\"none\" stroke=\"#000000\" d=\"M616.3976,-88.9777C604.7526,-79.4545 592.1146,-69.1191 580.5325,-59.6473\"/>\n<polygon fill=\"#000000\" stroke=\"#000000\" points=\"582.6648,-56.8697 572.708,-53.2485 578.2333,-62.2885 582.6648,-56.8697\"/>\n</g>\n<!-- 15 -->\n<g id=\"node16\" class=\"node\">\n<title>15</title>\n<polygon fill=\"#e68641\" stroke=\"#000000\" points=\"714,-53 610,-53 610,0 714,0 714,-53\"/>\n<text text-anchor=\"middle\" x=\"662\" y=\"-37.8\" font-family=\"Times,serif\" font-size=\"14.00\" fill=\"#000000\">mse = 6.416</text>\n<text text-anchor=\"middle\" x=\"662\" y=\"-22.8\" font-family=\"Times,serif\" font-size=\"14.00\" fill=\"#000000\">samples = 14</text>\n<text text-anchor=\"middle\" x=\"662\" y=\"-7.8\" font-family=\"Times,serif\" font-size=\"14.00\" fill=\"#000000\">value = 48.479</text>\n</g>\n<!-- 13&#45;&gt;15 -->\n<g id=\"edge15\" class=\"edge\">\n<title>13&#45;&gt;15</title>\n<path fill=\"none\" stroke=\"#000000\" d=\"M659.4103,-88.9777C659.7519,-80.7364 660.1187,-71.887 660.4657,-63.5153\"/>\n<polygon fill=\"#000000\" stroke=\"#000000\" points=\"663.974,-63.3849 660.8913,-53.2485 656.98,-63.0949 663.974,-63.3849\"/>\n</g>\n<!-- 17 -->\n<g id=\"node18\" class=\"node\">\n<title>17</title>\n<polygon fill=\"#e9965a\" stroke=\"#000000\" points=\"821.5,-53 732.5,-53 732.5,0 821.5,0 821.5,-53\"/>\n<text text-anchor=\"middle\" x=\"777\" y=\"-37.8\" font-family=\"Times,serif\" font-size=\"14.00\" fill=\"#000000\">mse = 0.25</text>\n<text text-anchor=\"middle\" x=\"777\" y=\"-22.8\" font-family=\"Times,serif\" font-size=\"14.00\" fill=\"#000000\">samples = 2</text>\n<text text-anchor=\"middle\" x=\"777\" y=\"-7.8\" font-family=\"Times,serif\" font-size=\"14.00\" fill=\"#000000\">value = 43.3</text>\n</g>\n<!-- 16&#45;&gt;17 -->\n<g id=\"edge17\" class=\"edge\">\n<title>16&#45;&gt;17</title>\n<path fill=\"none\" stroke=\"#000000\" d=\"M778.9423,-88.9777C778.6861,-80.7364 778.411,-71.887 778.1507,-63.5153\"/>\n<polygon fill=\"#000000\" stroke=\"#000000\" points=\"781.6407,-63.1349 777.8316,-53.2485 774.6441,-63.3524 781.6407,-63.1349\"/>\n</g>\n<!-- 18 -->\n<g id=\"node19\" class=\"node\">\n<title>18</title>\n<polygon fill=\"#edaa79\" stroke=\"#000000\" points=\"936.5,-53 839.5,-53 839.5,0 936.5,0 936.5,-53\"/>\n<text text-anchor=\"middle\" x=\"888\" y=\"-37.8\" font-family=\"Times,serif\" font-size=\"14.00\" fill=\"#000000\">mse = 3.062</text>\n<text text-anchor=\"middle\" x=\"888\" y=\"-22.8\" font-family=\"Times,serif\" font-size=\"14.00\" fill=\"#000000\">samples = 2</text>\n<text text-anchor=\"middle\" x=\"888\" y=\"-7.8\" font-family=\"Times,serif\" font-size=\"14.00\" fill=\"#000000\">value = 36.95</text>\n</g>\n<!-- 16&#45;&gt;18 -->\n<g id=\"edge18\" class=\"edge\">\n<title>16&#45;&gt;18</title>\n<path fill=\"none\" stroke=\"#000000\" d=\"M818.0768,-88.9777C828.6324,-79.546 840.0796,-69.3178 850.5964,-59.9208\"/>\n<polygon fill=\"#000000\" stroke=\"#000000\" points=\"852.939,-62.5213 858.0639,-53.2485 848.2749,-57.3015 852.939,-62.5213\"/>\n</g>\n<!-- 21 -->\n<g id=\"node22\" class=\"node\">\n<title>21</title>\n<polygon fill=\"#f8ddc9\" stroke=\"#000000\" points=\"1290,-365 1186,-365 1186,-297 1290,-297 1290,-365\"/>\n<text text-anchor=\"middle\" x=\"1238\" y=\"-349.8\" font-family=\"Times,serif\" font-size=\"14.00\" fill=\"#000000\">RM &lt;= 6.776</text>\n<text text-anchor=\"middle\" x=\"1238\" y=\"-334.8\" font-family=\"Times,serif\" font-size=\"14.00\" fill=\"#000000\">mse = 9.338</text>\n<text text-anchor=\"middle\" x=\"1238\" y=\"-319.8\" font-family=\"Times,serif\" font-size=\"14.00\" fill=\"#000000\">samples = 115</text>\n<text text-anchor=\"middle\" x=\"1238\" y=\"-304.8\" font-family=\"Times,serif\" font-size=\"14.00\" fill=\"#000000\">value = 20.777</text>\n</g>\n<!-- 20&#45;&gt;21 -->\n<g id=\"edge21\" class=\"edge\">\n<title>20&#45;&gt;21</title>\n<path fill=\"none\" stroke=\"#000000\" d=\"M1238,-400.9465C1238,-392.776 1238,-383.9318 1238,-375.3697\"/>\n<polygon fill=\"#000000\" stroke=\"#000000\" points=\"1241.5001,-375.13 1238,-365.13 1234.5001,-375.13 1241.5001,-375.13\"/>\n</g>\n<!-- 32 -->\n<g id=\"node33\" class=\"node\">\n<title>32</title>\n<polygon fill=\"#fcf0e8\" stroke=\"#000000\" points=\"1703,-365 1597,-365 1597,-297 1703,-297 1703,-365\"/>\n<text text-anchor=\"middle\" x=\"1650\" y=\"-349.8\" font-family=\"Times,serif\" font-size=\"14.00\" fill=\"#000000\">NOX &lt;= 0.603</text>\n<text text-anchor=\"middle\" x=\"1650\" y=\"-334.8\" font-family=\"Times,serif\" font-size=\"14.00\" fill=\"#000000\">mse = 18.673</text>\n<text text-anchor=\"middle\" x=\"1650\" y=\"-319.8\" font-family=\"Times,serif\" font-size=\"14.00\" fill=\"#000000\">samples = 149</text>\n<text text-anchor=\"middle\" x=\"1650\" y=\"-304.8\" font-family=\"Times,serif\" font-size=\"14.00\" fill=\"#000000\">value = 14.645</text>\n</g>\n<!-- 20&#45;&gt;32 -->\n<g id=\"edge32\" class=\"edge\">\n<title>20&#45;&gt;32</title>\n<path fill=\"none\" stroke=\"#000000\" d=\"M1293.1366,-421.082C1369.3619,-401.8407 1506.5914,-367.2002 1586.8455,-346.9419\"/>\n<polygon fill=\"#000000\" stroke=\"#000000\" points=\"1587.9818,-350.2649 1596.821,-344.4238 1586.2685,-343.4778 1587.9818,-350.2649\"/>\n</g>\n<!-- 22 -->\n<g id=\"node23\" class=\"node\">\n<title>22</title>\n<polygon fill=\"#f8decb\" stroke=\"#000000\" points=\"1232.5,-261 1113.5,-261 1113.5,-193 1232.5,-193 1232.5,-261\"/>\n<text text-anchor=\"middle\" x=\"1173\" y=\"-245.8\" font-family=\"Times,serif\" font-size=\"14.00\" fill=\"#000000\">CRIM &lt;= 25.998</text>\n<text text-anchor=\"middle\" x=\"1173\" y=\"-230.8\" font-family=\"Times,serif\" font-size=\"14.00\" fill=\"#000000\">mse = 6.425</text>\n<text text-anchor=\"middle\" x=\"1173\" y=\"-215.8\" font-family=\"Times,serif\" font-size=\"14.00\" fill=\"#000000\">samples = 109</text>\n<text text-anchor=\"middle\" x=\"1173\" y=\"-200.8\" font-family=\"Times,serif\" font-size=\"14.00\" fill=\"#000000\">value = 20.489</text>\n</g>\n<!-- 21&#45;&gt;22 -->\n<g id=\"edge22\" class=\"edge\">\n<title>21&#45;&gt;22</title>\n<path fill=\"none\" stroke=\"#000000\" d=\"M1216.7166,-296.9465C1211.2733,-288.2373 1205.3516,-278.7626 1199.675,-269.6801\"/>\n<polygon fill=\"#000000\" stroke=\"#000000\" points=\"1202.5993,-267.755 1194.3312,-261.13 1196.6633,-271.465 1202.5993,-267.755\"/>\n</g>\n<!-- 27 -->\n<g id=\"node28\" class=\"node\">\n<title>27</title>\n<polygon fill=\"#f5ccb0\" stroke=\"#000000\" points=\"1357,-261 1251,-261 1251,-193 1357,-193 1357,-261\"/>\n<text text-anchor=\"middle\" x=\"1304\" y=\"-245.8\" font-family=\"Times,serif\" font-size=\"14.00\" fill=\"#000000\">NOX &lt;= 0.659</text>\n<text text-anchor=\"middle\" x=\"1304\" y=\"-230.8\" font-family=\"Times,serif\" font-size=\"14.00\" fill=\"#000000\">mse = 33.463</text>\n<text text-anchor=\"middle\" x=\"1304\" y=\"-215.8\" font-family=\"Times,serif\" font-size=\"14.00\" fill=\"#000000\">samples = 6</text>\n<text text-anchor=\"middle\" x=\"1304\" y=\"-200.8\" font-family=\"Times,serif\" font-size=\"14.00\" fill=\"#000000\">value = 26.0</text>\n</g>\n<!-- 21&#45;&gt;27 -->\n<g id=\"edge27\" class=\"edge\">\n<title>21&#45;&gt;27</title>\n<path fill=\"none\" stroke=\"#000000\" d=\"M1259.6109,-296.9465C1265.1378,-288.2373 1271.1506,-278.7626 1276.9146,-269.6801\"/>\n<polygon fill=\"#000000\" stroke=\"#000000\" points=\"1279.9374,-271.4487 1282.3406,-261.13 1274.0271,-267.6979 1279.9374,-271.4487\"/>\n</g>\n<!-- 23 -->\n<g id=\"node24\" class=\"node\">\n<title>23</title>\n<polygon fill=\"#f8ddca\" stroke=\"#000000\" points=\"1118,-157 984,-157 984,-89 1118,-89 1118,-157\"/>\n<text text-anchor=\"middle\" x=\"1051\" y=\"-141.8\" font-family=\"Times,serif\" font-size=\"14.00\" fill=\"#000000\">PTRATIO &lt;= 20.95</text>\n<text text-anchor=\"middle\" x=\"1051\" y=\"-126.8\" font-family=\"Times,serif\" font-size=\"14.00\" fill=\"#000000\">mse = 5.626</text>\n<text text-anchor=\"middle\" x=\"1051\" y=\"-111.8\" font-family=\"Times,serif\" font-size=\"14.00\" fill=\"#000000\">samples = 108</text>\n<text text-anchor=\"middle\" x=\"1051\" y=\"-96.8\" font-family=\"Times,serif\" font-size=\"14.00\" fill=\"#000000\">value = 20.578</text>\n</g>\n<!-- 22&#45;&gt;23 -->\n<g id=\"edge23\" class=\"edge\">\n<title>22&#45;&gt;23</title>\n<path fill=\"none\" stroke=\"#000000\" d=\"M1133.0526,-192.9465C1122.0988,-183.6088 1110.1127,-173.3911 1098.768,-163.7203\"/>\n<polygon fill=\"#000000\" stroke=\"#000000\" points=\"1100.9179,-160.9538 1091.0371,-157.13 1096.3767,-166.2809 1100.9179,-160.9538\"/>\n</g>\n<!-- 26 -->\n<g id=\"node27\" class=\"node\">\n<title>26</title>\n<polygon fill=\"#fefcfa\" stroke=\"#000000\" points=\"1225.5,-149.5 1136.5,-149.5 1136.5,-96.5 1225.5,-96.5 1225.5,-149.5\"/>\n<text text-anchor=\"middle\" x=\"1181\" y=\"-134.3\" font-family=\"Times,serif\" font-size=\"14.00\" fill=\"#000000\">mse = 0.0</text>\n<text text-anchor=\"middle\" x=\"1181\" y=\"-119.3\" font-family=\"Times,serif\" font-size=\"14.00\" fill=\"#000000\">samples = 1</text>\n<text text-anchor=\"middle\" x=\"1181\" y=\"-104.3\" font-family=\"Times,serif\" font-size=\"14.00\" fill=\"#000000\">value = 10.9</text>\n</g>\n<!-- 22&#45;&gt;26 -->\n<g id=\"edge26\" class=\"edge\">\n<title>22&#45;&gt;26</title>\n<path fill=\"none\" stroke=\"#000000\" d=\"M1175.6195,-192.9465C1176.4414,-182.2621 1177.3519,-170.4254 1178.1866,-159.5742\"/>\n<polygon fill=\"#000000\" stroke=\"#000000\" points=\"1181.6809,-159.7812 1178.9583,-149.5422 1174.7015,-159.2442 1181.6809,-159.7812\"/>\n</g>\n<!-- 24 -->\n<g id=\"node25\" class=\"node\">\n<title>24</title>\n<polygon fill=\"#f8ddc9\" stroke=\"#000000\" points=\"1059,-53 955,-53 955,0 1059,0 1059,-53\"/>\n<text text-anchor=\"middle\" x=\"1007\" y=\"-37.8\" font-family=\"Times,serif\" font-size=\"14.00\" fill=\"#000000\">mse = 5.211</text>\n<text text-anchor=\"middle\" x=\"1007\" y=\"-22.8\" font-family=\"Times,serif\" font-size=\"14.00\" fill=\"#000000\">samples = 96</text>\n<text text-anchor=\"middle\" x=\"1007\" y=\"-7.8\" font-family=\"Times,serif\" font-size=\"14.00\" fill=\"#000000\">value = 20.831</text>\n</g>\n<!-- 23&#45;&gt;24 -->\n<g id=\"edge24\" class=\"edge\">\n<title>23&#45;&gt;24</title>\n<path fill=\"none\" stroke=\"#000000\" d=\"M1035.4872,-88.9777C1031.5626,-80.3702 1027.3354,-71.0992 1023.3698,-62.402\"/>\n<polygon fill=\"#000000\" stroke=\"#000000\" points=\"1026.5295,-60.8952 1019.1962,-53.2485 1020.1603,-63.7994 1026.5295,-60.8952\"/>\n</g>\n<!-- 25 -->\n<g id=\"node26\" class=\"node\">\n<title>25</title>\n<polygon fill=\"#f9e4d4\" stroke=\"#000000\" points=\"1174.5,-53 1077.5,-53 1077.5,0 1174.5,0 1174.5,-53\"/>\n<text text-anchor=\"middle\" x=\"1126\" y=\"-37.8\" font-family=\"Times,serif\" font-size=\"14.00\" fill=\"#000000\">mse = 4.318</text>\n<text text-anchor=\"middle\" x=\"1126\" y=\"-22.8\" font-family=\"Times,serif\" font-size=\"14.00\" fill=\"#000000\">samples = 12</text>\n<text text-anchor=\"middle\" x=\"1126\" y=\"-7.8\" font-family=\"Times,serif\" font-size=\"14.00\" fill=\"#000000\">value = 18.55</text>\n</g>\n<!-- 23&#45;&gt;25 -->\n<g id=\"edge25\" class=\"edge\">\n<title>23&#45;&gt;25</title>\n<path fill=\"none\" stroke=\"#000000\" d=\"M1077.4422,-88.9777C1084.4167,-80.0039 1091.9516,-70.3089 1098.9573,-61.295\"/>\n<polygon fill=\"#000000\" stroke=\"#000000\" points=\"1101.8379,-63.292 1105.211,-53.2485 1096.3109,-58.9964 1101.8379,-63.292\"/>\n</g>\n<!-- 28 -->\n<g id=\"node29\" class=\"node\">\n<title>28</title>\n<polygon fill=\"#f3c6a5\" stroke=\"#000000\" points=\"1353,-157 1247,-157 1247,-89 1353,-89 1353,-157\"/>\n<text text-anchor=\"middle\" x=\"1300\" y=\"-141.8\" font-family=\"Times,serif\" font-size=\"14.00\" fill=\"#000000\">NOX &lt;= 0.468</text>\n<text text-anchor=\"middle\" x=\"1300\" y=\"-126.8\" font-family=\"Times,serif\" font-size=\"14.00\" fill=\"#000000\">mse = 11.116</text>\n<text text-anchor=\"middle\" x=\"1300\" y=\"-111.8\" font-family=\"Times,serif\" font-size=\"14.00\" fill=\"#000000\">samples = 5</text>\n<text text-anchor=\"middle\" x=\"1300\" y=\"-96.8\" font-family=\"Times,serif\" font-size=\"14.00\" fill=\"#000000\">value = 28.2</text>\n</g>\n<!-- 27&#45;&gt;28 -->\n<g id=\"edge28\" class=\"edge\">\n<title>27&#45;&gt;28</title>\n<path fill=\"none\" stroke=\"#000000\" d=\"M1302.6903,-192.9465C1302.376,-184.776 1302.0358,-175.9318 1301.7065,-167.3697\"/>\n<polygon fill=\"#000000\" stroke=\"#000000\" points=\"1305.1945,-166.9881 1301.3127,-157.13 1298.1997,-167.2572 1305.1945,-166.9881\"/>\n</g>\n<!-- 31 -->\n<g id=\"node32\" class=\"node\">\n<title>31</title>\n<polygon fill=\"#fcefe6\" stroke=\"#000000\" points=\"1460.5,-149.5 1371.5,-149.5 1371.5,-96.5 1460.5,-96.5 1460.5,-149.5\"/>\n<text text-anchor=\"middle\" x=\"1416\" y=\"-134.3\" font-family=\"Times,serif\" font-size=\"14.00\" fill=\"#000000\">mse = 0.0</text>\n<text text-anchor=\"middle\" x=\"1416\" y=\"-119.3\" font-family=\"Times,serif\" font-size=\"14.00\" fill=\"#000000\">samples = 1</text>\n<text text-anchor=\"middle\" x=\"1416\" y=\"-104.3\" font-family=\"Times,serif\" font-size=\"14.00\" fill=\"#000000\">value = 15.0</text>\n</g>\n<!-- 27&#45;&gt;31 -->\n<g id=\"edge31\" class=\"edge\">\n<title>27&#45;&gt;31</title>\n<path fill=\"none\" stroke=\"#000000\" d=\"M1340.673,-192.9465C1353.2469,-181.2707 1367.3026,-168.219 1379.8359,-156.5809\"/>\n<polygon fill=\"#000000\" stroke=\"#000000\" points=\"1382.4698,-158.9115 1387.4161,-149.5422 1377.7066,-153.7819 1382.4698,-158.9115\"/>\n</g>\n<!-- 29 -->\n<g id=\"node30\" class=\"node\">\n<title>29</title>\n<polygon fill=\"#f7d9c3\" stroke=\"#000000\" points=\"1281.5,-53 1192.5,-53 1192.5,0 1281.5,0 1281.5,-53\"/>\n<text text-anchor=\"middle\" x=\"1237\" y=\"-37.8\" font-family=\"Times,serif\" font-size=\"14.00\" fill=\"#000000\">mse = 0.0</text>\n<text text-anchor=\"middle\" x=\"1237\" y=\"-22.8\" font-family=\"Times,serif\" font-size=\"14.00\" fill=\"#000000\">samples = 1</text>\n<text text-anchor=\"middle\" x=\"1237\" y=\"-7.8\" font-family=\"Times,serif\" font-size=\"14.00\" fill=\"#000000\">value = 22.0</text>\n</g>\n<!-- 28&#45;&gt;29 -->\n<g id=\"edge29\" class=\"edge\">\n<title>28&#45;&gt;29</title>\n<path fill=\"none\" stroke=\"#000000\" d=\"M1277.7886,-88.9777C1272.0496,-80.187 1265.8588,-70.7044 1260.0767,-61.8477\"/>\n<polygon fill=\"#000000\" stroke=\"#000000\" points=\"1262.8602,-59.7087 1254.4627,-53.2485 1256.9987,-63.5354 1262.8602,-59.7087\"/>\n</g>\n<!-- 30 -->\n<g id=\"node31\" class=\"node\">\n<title>30</title>\n<polygon fill=\"#f2c19d\" stroke=\"#000000\" points=\"1396.5,-53 1299.5,-53 1299.5,0 1396.5,0 1396.5,-53\"/>\n<text text-anchor=\"middle\" x=\"1348\" y=\"-37.8\" font-family=\"Times,serif\" font-size=\"14.00\" fill=\"#000000\">mse = 1.882</text>\n<text text-anchor=\"middle\" x=\"1348\" y=\"-22.8\" font-family=\"Times,serif\" font-size=\"14.00\" fill=\"#000000\">samples = 4</text>\n<text text-anchor=\"middle\" x=\"1348\" y=\"-7.8\" font-family=\"Times,serif\" font-size=\"14.00\" fill=\"#000000\">value = 29.75</text>\n</g>\n<!-- 28&#45;&gt;30 -->\n<g id=\"edge30\" class=\"edge\">\n<title>28&#45;&gt;30</title>\n<path fill=\"none\" stroke=\"#000000\" d=\"M1316.923,-88.9777C1321.2045,-80.3702 1325.816,-71.0992 1330.142,-62.402\"/>\n<polygon fill=\"#000000\" stroke=\"#000000\" points=\"1333.3752,-63.7608 1334.6951,-53.2485 1327.1077,-60.6433 1333.3752,-63.7608\"/>\n</g>\n<!-- 33 -->\n<g id=\"node34\" class=\"node\">\n<title>33</title>\n<polygon fill=\"#fae6d7\" stroke=\"#000000\" points=\"1705.5,-261 1594.5,-261 1594.5,-193 1705.5,-193 1705.5,-261\"/>\n<text text-anchor=\"middle\" x=\"1650\" y=\"-245.8\" font-family=\"Times,serif\" font-size=\"14.00\" fill=\"#000000\">CRIM &lt;= 0.593</text>\n<text text-anchor=\"middle\" x=\"1650\" y=\"-230.8\" font-family=\"Times,serif\" font-size=\"14.00\" fill=\"#000000\">mse = 13.116</text>\n<text text-anchor=\"middle\" x=\"1650\" y=\"-215.8\" font-family=\"Times,serif\" font-size=\"14.00\" fill=\"#000000\">samples = 54</text>\n<text text-anchor=\"middle\" x=\"1650\" y=\"-200.8\" font-family=\"Times,serif\" font-size=\"14.00\" fill=\"#000000\">value = 17.961</text>\n</g>\n<!-- 32&#45;&gt;33 -->\n<g id=\"edge33\" class=\"edge\">\n<title>32&#45;&gt;33</title>\n<path fill=\"none\" stroke=\"#000000\" d=\"M1650,-296.9465C1650,-288.776 1650,-279.9318 1650,-271.3697\"/>\n<polygon fill=\"#000000\" stroke=\"#000000\" points=\"1653.5001,-271.13 1650,-261.13 1646.5001,-271.13 1653.5001,-271.13\"/>\n</g>\n<!-- 40 -->\n<g id=\"node41\" class=\"node\">\n<title>40</title>\n<polygon fill=\"#fdf6f1\" stroke=\"#000000\" points=\"2051.5,-261 1926.5,-261 1926.5,-193 2051.5,-193 2051.5,-261\"/>\n<text text-anchor=\"middle\" x=\"1989\" y=\"-245.8\" font-family=\"Times,serif\" font-size=\"14.00\" fill=\"#000000\">LSTAT &lt;= 19.645</text>\n<text text-anchor=\"middle\" x=\"1989\" y=\"-230.8\" font-family=\"Times,serif\" font-size=\"14.00\" fill=\"#000000\">mse = 12.029</text>\n<text text-anchor=\"middle\" x=\"1989\" y=\"-215.8\" font-family=\"Times,serif\" font-size=\"14.00\" fill=\"#000000\">samples = 95</text>\n<text text-anchor=\"middle\" x=\"1989\" y=\"-200.8\" font-family=\"Times,serif\" font-size=\"14.00\" fill=\"#000000\">value = 12.76</text>\n</g>\n<!-- 32&#45;&gt;40 -->\n<g id=\"edge40\" class=\"edge\">\n<title>32&#45;&gt;40</title>\n<path fill=\"none\" stroke=\"#000000\" d=\"M1703.3417,-314.6356C1760.8933,-296.9796 1852.8694,-268.7628 1916.8496,-249.1346\"/>\n<polygon fill=\"#000000\" stroke=\"#000000\" points=\"1917.9394,-252.4614 1926.4731,-246.1823 1915.8863,-245.7692 1917.9394,-252.4614\"/>\n</g>\n<!-- 34 -->\n<g id=\"node35\" class=\"node\">\n<title>34</title>\n<polygon fill=\"#f9e0cf\" stroke=\"#000000\" points=\"1641,-157 1537,-157 1537,-89 1641,-89 1641,-157\"/>\n<text text-anchor=\"middle\" x=\"1589\" y=\"-141.8\" font-family=\"Times,serif\" font-size=\"14.00\" fill=\"#000000\">AGE &lt;= 55.9</text>\n<text text-anchor=\"middle\" x=\"1589\" y=\"-126.8\" font-family=\"Times,serif\" font-size=\"14.00\" fill=\"#000000\">mse = 6.631</text>\n<text text-anchor=\"middle\" x=\"1589\" y=\"-111.8\" font-family=\"Times,serif\" font-size=\"14.00\" fill=\"#000000\">samples = 31</text>\n<text text-anchor=\"middle\" x=\"1589\" y=\"-96.8\" font-family=\"Times,serif\" font-size=\"14.00\" fill=\"#000000\">value = 19.713</text>\n</g>\n<!-- 33&#45;&gt;34 -->\n<g id=\"edge34\" class=\"edge\">\n<title>33&#45;&gt;34</title>\n<path fill=\"none\" stroke=\"#000000\" d=\"M1630.0263,-192.9465C1624.9707,-184.3271 1619.4753,-174.9579 1614.1983,-165.9611\"/>\n<polygon fill=\"#000000\" stroke=\"#000000\" points=\"1617.0969,-163.985 1609.0186,-157.13 1611.0589,-167.5265 1617.0969,-163.985\"/>\n</g>\n<!-- 37 -->\n<g id=\"node38\" class=\"node\">\n<title>37</title>\n<polygon fill=\"#fbede3\" stroke=\"#000000\" points=\"1759.5,-157 1662.5,-157 1662.5,-89 1759.5,-89 1759.5,-157\"/>\n<text text-anchor=\"middle\" x=\"1711\" y=\"-141.8\" font-family=\"Times,serif\" font-size=\"14.00\" fill=\"#000000\">RM &lt;= 6.843</text>\n<text text-anchor=\"middle\" x=\"1711\" y=\"-126.8\" font-family=\"Times,serif\" font-size=\"14.00\" fill=\"#000000\">mse = 12.145</text>\n<text text-anchor=\"middle\" x=\"1711\" y=\"-111.8\" font-family=\"Times,serif\" font-size=\"14.00\" fill=\"#000000\">samples = 23</text>\n<text text-anchor=\"middle\" x=\"1711\" y=\"-96.8\" font-family=\"Times,serif\" font-size=\"14.00\" fill=\"#000000\">value = 15.6</text>\n</g>\n<!-- 33&#45;&gt;37 -->\n<g id=\"edge37\" class=\"edge\">\n<title>33&#45;&gt;37</title>\n<path fill=\"none\" stroke=\"#000000\" d=\"M1669.9737,-192.9465C1675.0293,-184.3271 1680.5247,-174.9579 1685.8017,-165.9611\"/>\n<polygon fill=\"#000000\" stroke=\"#000000\" points=\"1688.9411,-167.5265 1690.9814,-157.13 1682.9031,-163.985 1688.9411,-167.5265\"/>\n</g>\n<!-- 35 -->\n<g id=\"node36\" class=\"node\">\n<title>35</title>\n<polygon fill=\"#f7d7c0\" stroke=\"#000000\" points=\"1519,-53 1415,-53 1415,0 1519,0 1519,-53\"/>\n<text text-anchor=\"middle\" x=\"1467\" y=\"-37.8\" font-family=\"Times,serif\" font-size=\"14.00\" fill=\"#000000\">mse = 0.562</text>\n<text text-anchor=\"middle\" x=\"1467\" y=\"-22.8\" font-family=\"Times,serif\" font-size=\"14.00\" fill=\"#000000\">samples = 4</text>\n<text text-anchor=\"middle\" x=\"1467\" y=\"-7.8\" font-family=\"Times,serif\" font-size=\"14.00\" fill=\"#000000\">value = 22.725</text>\n</g>\n<!-- 34&#45;&gt;35 -->\n<g id=\"edge35\" class=\"edge\">\n<title>34&#45;&gt;35</title>\n<path fill=\"none\" stroke=\"#000000\" d=\"M1545.9874,-88.9777C1533.9476,-79.4545 1520.8812,-69.1191 1508.9065,-59.6473\"/>\n<polygon fill=\"#000000\" stroke=\"#000000\" points=\"1510.8311,-56.7072 1500.8167,-53.2485 1506.4885,-62.1973 1510.8311,-56.7072\"/>\n</g>\n<!-- 36 -->\n<g id=\"node37\" class=\"node\">\n<title>36</title>\n<polygon fill=\"#f9e2d1\" stroke=\"#000000\" points=\"1641,-53 1537,-53 1537,0 1641,0 1641,-53\"/>\n<text text-anchor=\"middle\" x=\"1589\" y=\"-37.8\" font-family=\"Times,serif\" font-size=\"14.00\" fill=\"#000000\">mse = 5.987</text>\n<text text-anchor=\"middle\" x=\"1589\" y=\"-22.8\" font-family=\"Times,serif\" font-size=\"14.00\" fill=\"#000000\">samples = 27</text>\n<text text-anchor=\"middle\" x=\"1589\" y=\"-7.8\" font-family=\"Times,serif\" font-size=\"14.00\" fill=\"#000000\">value = 19.267</text>\n</g>\n<!-- 34&#45;&gt;36 -->\n<g id=\"edge36\" class=\"edge\">\n<title>34&#45;&gt;36</title>\n<path fill=\"none\" stroke=\"#000000\" d=\"M1589,-88.9777C1589,-80.7364 1589,-71.887 1589,-63.5153\"/>\n<polygon fill=\"#000000\" stroke=\"#000000\" points=\"1592.5001,-63.2484 1589,-53.2485 1585.5001,-63.2485 1592.5001,-63.2484\"/>\n</g>\n<!-- 38 -->\n<g id=\"node39\" class=\"node\">\n<title>38</title>\n<polygon fill=\"#fcefe6\" stroke=\"#000000\" points=\"1763,-53 1659,-53 1659,0 1763,0 1763,-53\"/>\n<text text-anchor=\"middle\" x=\"1711\" y=\"-37.8\" font-family=\"Times,serif\" font-size=\"14.00\" fill=\"#000000\">mse = 5.968</text>\n<text text-anchor=\"middle\" x=\"1711\" y=\"-22.8\" font-family=\"Times,serif\" font-size=\"14.00\" fill=\"#000000\">samples = 22</text>\n<text text-anchor=\"middle\" x=\"1711\" y=\"-7.8\" font-family=\"Times,serif\" font-size=\"14.00\" fill=\"#000000\">value = 15.059</text>\n</g>\n<!-- 37&#45;&gt;38 -->\n<g id=\"edge38\" class=\"edge\">\n<title>37&#45;&gt;38</title>\n<path fill=\"none\" stroke=\"#000000\" d=\"M1711,-88.9777C1711,-80.7364 1711,-71.887 1711,-63.5153\"/>\n<polygon fill=\"#000000\" stroke=\"#000000\" points=\"1714.5001,-63.2484 1711,-53.2485 1707.5001,-63.2485 1714.5001,-63.2484\"/>\n</g>\n<!-- 39 -->\n<g id=\"node40\" class=\"node\">\n<title>39</title>\n<polygon fill=\"#f4c8a8\" stroke=\"#000000\" points=\"1870.5,-53 1781.5,-53 1781.5,0 1870.5,0 1870.5,-53\"/>\n<text text-anchor=\"middle\" x=\"1826\" y=\"-37.8\" font-family=\"Times,serif\" font-size=\"14.00\" fill=\"#000000\">mse = 0.0</text>\n<text text-anchor=\"middle\" x=\"1826\" y=\"-22.8\" font-family=\"Times,serif\" font-size=\"14.00\" fill=\"#000000\">samples = 1</text>\n<text text-anchor=\"middle\" x=\"1826\" y=\"-7.8\" font-family=\"Times,serif\" font-size=\"14.00\" fill=\"#000000\">value = 27.5</text>\n</g>\n<!-- 37&#45;&gt;39 -->\n<g id=\"edge39\" class=\"edge\">\n<title>37&#45;&gt;39</title>\n<path fill=\"none\" stroke=\"#000000\" d=\"M1751.5447,-88.9777C1762.7845,-79.546 1774.9736,-69.3178 1786.1721,-59.9208\"/>\n<polygon fill=\"#000000\" stroke=\"#000000\" points=\"1788.713,-62.3576 1794.1236,-53.2485 1784.2134,-56.9954 1788.713,-62.3576\"/>\n</g>\n<!-- 41 -->\n<g id=\"node42\" class=\"node\">\n<title>41</title>\n<polygon fill=\"#fcefe5\" stroke=\"#000000\" points=\"2048.5,-157 1929.5,-157 1929.5,-89 2048.5,-89 2048.5,-157\"/>\n<text text-anchor=\"middle\" x=\"1989\" y=\"-141.8\" font-family=\"Times,serif\" font-size=\"14.00\" fill=\"#000000\">CRIM &lt;= 12.224</text>\n<text text-anchor=\"middle\" x=\"1989\" y=\"-126.8\" font-family=\"Times,serif\" font-size=\"14.00\" fill=\"#000000\">mse = 6.05</text>\n<text text-anchor=\"middle\" x=\"1989\" y=\"-111.8\" font-family=\"Times,serif\" font-size=\"14.00\" fill=\"#000000\">samples = 43</text>\n<text text-anchor=\"middle\" x=\"1989\" y=\"-96.8\" font-family=\"Times,serif\" font-size=\"14.00\" fill=\"#000000\">value = 15.156</text>\n</g>\n<!-- 40&#45;&gt;41 -->\n<g id=\"edge41\" class=\"edge\">\n<title>40&#45;&gt;41</title>\n<path fill=\"none\" stroke=\"#000000\" d=\"M1989,-192.9465C1989,-184.776 1989,-175.9318 1989,-167.3697\"/>\n<polygon fill=\"#000000\" stroke=\"#000000\" points=\"1992.5001,-167.13 1989,-157.13 1985.5001,-167.13 1992.5001,-167.13\"/>\n</g>\n<!-- 44 -->\n<g id=\"node45\" class=\"node\">\n<title>44</title>\n<polygon fill=\"#fefcfb\" stroke=\"#000000\" points=\"2219,-157 2115,-157 2115,-89 2219,-89 2219,-157\"/>\n<text text-anchor=\"middle\" x=\"2167\" y=\"-141.8\" font-family=\"Times,serif\" font-size=\"14.00\" fill=\"#000000\">TAX &lt;= 551.5</text>\n<text text-anchor=\"middle\" x=\"2167\" y=\"-126.8\" font-family=\"Times,serif\" font-size=\"14.00\" fill=\"#000000\">mse = 8.301</text>\n<text text-anchor=\"middle\" x=\"2167\" y=\"-111.8\" font-family=\"Times,serif\" font-size=\"14.00\" fill=\"#000000\">samples = 52</text>\n<text text-anchor=\"middle\" x=\"2167\" y=\"-96.8\" font-family=\"Times,serif\" font-size=\"14.00\" fill=\"#000000\">value = 10.779</text>\n</g>\n<!-- 40&#45;&gt;44 -->\n<g id=\"edge44\" class=\"edge\">\n<title>40&#45;&gt;44</title>\n<path fill=\"none\" stroke=\"#000000\" d=\"M2047.2839,-192.9465C2066.1026,-181.9513 2087.0098,-169.7359 2106.0181,-158.6299\"/>\n<polygon fill=\"#000000\" stroke=\"#000000\" points=\"2108.0219,-161.5128 2114.8905,-153.446 2104.4905,-155.4688 2108.0219,-161.5128\"/>\n</g>\n<!-- 42 -->\n<g id=\"node43\" class=\"node\">\n<title>42</title>\n<polygon fill=\"#fbede3\" stroke=\"#000000\" points=\"1993,-53 1889,-53 1889,0 1993,0 1993,-53\"/>\n<text text-anchor=\"middle\" x=\"1941\" y=\"-37.8\" font-family=\"Times,serif\" font-size=\"14.00\" fill=\"#000000\">mse = 4.665</text>\n<text text-anchor=\"middle\" x=\"1941\" y=\"-22.8\" font-family=\"Times,serif\" font-size=\"14.00\" fill=\"#000000\">samples = 39</text>\n<text text-anchor=\"middle\" x=\"1941\" y=\"-7.8\" font-family=\"Times,serif\" font-size=\"14.00\" fill=\"#000000\">value = 15.572</text>\n</g>\n<!-- 41&#45;&gt;42 -->\n<g id=\"edge42\" class=\"edge\">\n<title>41&#45;&gt;42</title>\n<path fill=\"none\" stroke=\"#000000\" d=\"M1972.077,-88.9777C1967.7955,-80.3702 1963.184,-71.0992 1958.858,-62.402\"/>\n<polygon fill=\"#000000\" stroke=\"#000000\" points=\"1961.8923,-60.6433 1954.3049,-53.2485 1955.6248,-63.7608 1961.8923,-60.6433\"/>\n</g>\n<!-- 43 -->\n<g id=\"node44\" class=\"node\">\n<title>43</title>\n<polygon fill=\"#fefbf9\" stroke=\"#000000\" points=\"2100.5,-53 2011.5,-53 2011.5,0 2100.5,0 2100.5,-53\"/>\n<text text-anchor=\"middle\" x=\"2056\" y=\"-37.8\" font-family=\"Times,serif\" font-size=\"14.00\" fill=\"#000000\">mse = 1.415</text>\n<text text-anchor=\"middle\" x=\"2056\" y=\"-22.8\" font-family=\"Times,serif\" font-size=\"14.00\" fill=\"#000000\">samples = 4</text>\n<text text-anchor=\"middle\" x=\"2056\" y=\"-7.8\" font-family=\"Times,serif\" font-size=\"14.00\" fill=\"#000000\">value = 11.1</text>\n</g>\n<!-- 41&#45;&gt;43 -->\n<g id=\"edge43\" class=\"edge\">\n<title>41&#45;&gt;43</title>\n<path fill=\"none\" stroke=\"#000000\" d=\"M2012.6217,-88.9777C2018.7887,-80.0954 2025.4461,-70.5067 2031.6501,-61.5711\"/>\n<polygon fill=\"#000000\" stroke=\"#000000\" points=\"2034.6003,-63.4589 2037.4285,-53.2485 2028.8503,-59.4666 2034.6003,-63.4589\"/>\n</g>\n<!-- 45 -->\n<g id=\"node46\" class=\"node\">\n<title>45</title>\n<polygon fill=\"#fcf1e9\" stroke=\"#000000\" points=\"2215.5,-53 2118.5,-53 2118.5,0 2215.5,0 2215.5,-53\"/>\n<text text-anchor=\"middle\" x=\"2167\" y=\"-37.8\" font-family=\"Times,serif\" font-size=\"14.00\" fill=\"#000000\">mse = 2.353</text>\n<text text-anchor=\"middle\" x=\"2167\" y=\"-22.8\" font-family=\"Times,serif\" font-size=\"14.00\" fill=\"#000000\">samples = 10</text>\n<text text-anchor=\"middle\" x=\"2167\" y=\"-7.8\" font-family=\"Times,serif\" font-size=\"14.00\" fill=\"#000000\">value = 14.41</text>\n</g>\n<!-- 44&#45;&gt;45 -->\n<g id=\"edge45\" class=\"edge\">\n<title>44&#45;&gt;45</title>\n<path fill=\"none\" stroke=\"#000000\" d=\"M2167,-88.9777C2167,-80.7364 2167,-71.887 2167,-63.5153\"/>\n<polygon fill=\"#000000\" stroke=\"#000000\" points=\"2170.5001,-63.2484 2167,-53.2485 2163.5001,-63.2485 2170.5001,-63.2484\"/>\n</g>\n<!-- 46 -->\n<g id=\"node47\" class=\"node\">\n<title>46</title>\n<polygon fill=\"#ffffff\" stroke=\"#000000\" points=\"2330.5,-53 2233.5,-53 2233.5,0 2330.5,0 2330.5,-53\"/>\n<text text-anchor=\"middle\" x=\"2282\" y=\"-37.8\" font-family=\"Times,serif\" font-size=\"14.00\" fill=\"#000000\">mse = 5.831</text>\n<text text-anchor=\"middle\" x=\"2282\" y=\"-22.8\" font-family=\"Times,serif\" font-size=\"14.00\" fill=\"#000000\">samples = 42</text>\n<text text-anchor=\"middle\" x=\"2282\" y=\"-7.8\" font-family=\"Times,serif\" font-size=\"14.00\" fill=\"#000000\">value = 9.914</text>\n</g>\n<!-- 44&#45;&gt;46 -->\n<g id=\"edge46\" class=\"edge\">\n<title>44&#45;&gt;46</title>\n<path fill=\"none\" stroke=\"#000000\" d=\"M2207.5447,-88.9777C2218.7845,-79.546 2230.9736,-69.3178 2242.1721,-59.9208\"/>\n<polygon fill=\"#000000\" stroke=\"#000000\" points=\"2244.713,-62.3576 2250.1236,-53.2485 2240.2134,-56.9954 2244.713,-62.3576\"/>\n</g>\n</g>\n</svg>\n"
          },
          "metadata": {
            "tags": []
          },
          "execution_count": 8
        }
      ]
    }
  ]
}