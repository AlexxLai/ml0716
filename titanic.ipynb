{
  "nbformat": 4,
  "nbformat_minor": 0,
  "metadata": {
    "colab": {
      "name": "titanic.ipynb",
      "provenance": [],
      "authorship_tag": "ABX9TyPdNad0VGumeMN6j9bOIGcT",
      "include_colab_link": true
    },
    "kernelspec": {
      "name": "python3",
      "display_name": "Python 3"
    }
  },
  "cells": [
    {
      "cell_type": "markdown",
      "metadata": {
        "id": "view-in-github",
        "colab_type": "text"
      },
      "source": [
        "<a href=\"https://colab.research.google.com/github/AlexxLai/ml0716/blob/master/titanic.ipynb\" target=\"_parent\"><img src=\"https://colab.research.google.com/assets/colab-badge.svg\" alt=\"Open In Colab\"/></a>"
      ]
    },
    {
      "cell_type": "code",
      "metadata": {
        "id": "JidNX2kGa35-",
        "colab_type": "code",
        "colab": {}
      },
      "source": [
        "from google.colab import files\n",
        "files.upload()   # upload kaggle.json\n",
        "!mkdir -p ~/.kaggle\n",
        "!cp kaggle.json ~/.kaggle/"
      ],
      "execution_count": null,
      "outputs": []
    },
    {
      "cell_type": "code",
      "metadata": {
        "id": "U-n9M-bvaD2d",
        "colab_type": "code",
        "colab": {}
      },
      "source": [
        "!kaggle competitions download -c titanic"
      ],
      "execution_count": null,
      "outputs": []
    },
    {
      "cell_type": "code",
      "metadata": {
        "id": "y4HE-_HYhBI1",
        "colab_type": "code",
        "colab": {}
      },
      "source": [
        "# 若上述無法使用，這使用此部分程式碼\n",
        "# from urllib.request import urlretrieve\n",
        "# url = \"https://github.com/Elwing-Chou/ml0716/raw/master/train.csv\"\n",
        "# urlretrieve(url, \"train.csv\")"
      ],
      "execution_count": null,
      "outputs": []
    },
    {
      "cell_type": "code",
      "metadata": {
        "id": "0JA0F32EdzO0",
        "colab_type": "code",
        "colab": {}
      },
      "source": [
        "import pandas as pd\n",
        "train_df = pd.read_csv(\"train.csv\",encoding = \"utf-8\")\n",
        "test_df = pd.read_csv(\"test.csv\",encoding = \"utf-8\")\n",
        "# train_df\n",
        "# test_df"
      ],
      "execution_count": 15,
      "outputs": []
    },
    {
      "cell_type": "code",
      "metadata": {
        "id": "tCI4g0RWe6uY",
        "colab_type": "code",
        "colab": {}
      },
      "source": [
        "# concat: 把兩個dataframe統整在一起\n",
        "# concat: 0[把行合併在一起↓] 1[把列合併在一起→]\n",
        "datas = pd.concat([train_df,test_df])\n",
        "datas = datas.drop([\"PassengerId\",\"Survived\"],axis=1) # drop:捨去不必要的欄位,axis=1行捨去\n",
        "datas"
      ],
      "execution_count": null,
      "outputs": []
    },
    {
      "cell_type": "code",
      "metadata": {
        "id": "T1gMJzW7iZrk",
        "colab_type": "code",
        "colab": {
          "base_uri": "https://localhost:8080/",
          "height": 101
        },
        "outputId": "fbb61fd7-39d9-4291-ccd2-078096cb239b"
      },
      "source": [
        "# Step1. 補缺失值\n",
        "# isna(): False: 有值, True: 有缺失值\n",
        "s = datas.isna().sum() # Cabin缺失值太多(趨近資料集總數)，因此選擇補次多的Age、Fare...\n",
        "# 篩選 seires[[True...]]，將值是True的以Series列出來\n",
        "s[s > 0]"
      ],
      "execution_count": 19,
      "outputs": [
        {
          "output_type": "execute_result",
          "data": {
            "text/plain": [
              "Age          263\n",
              "Fare           1\n",
              "Cabin       1014\n",
              "Embarked       2\n",
              "dtype: int64"
            ]
          },
          "metadata": {
            "tags": []
          },
          "execution_count": 19
        }
      ]
    }
  ]
}